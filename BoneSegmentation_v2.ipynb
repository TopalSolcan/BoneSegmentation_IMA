{
 "metadata": {
  "language_info": {
   "codemirror_mode": {
    "name": "ipython",
    "version": 3
   },
   "file_extension": ".py",
   "mimetype": "text/x-python",
   "name": "python",
   "nbconvert_exporter": "python",
   "pygments_lexer": "ipython3",
   "version": "3.8.10"
  },
  "orig_nbformat": 4,
  "kernelspec": {
   "name": "python3",
   "display_name": "Python 3.8.5 64-bit ('.venv': pipenv)"
  },
  "interpreter": {
   "hash": "5a2fe2c165f5be54a00b373373fff34b3e324ef3054311fac64ab317a2f1c921"
  }
 },
 "nbformat": 4,
 "nbformat_minor": 2,
 "cells": [
  {
   "cell_type": "code",
   "execution_count": 1,
   "metadata": {},
   "outputs": [],
   "source": [
    "from bone_data import BoneData"
   ]
  },
  {
   "cell_type": "code",
   "execution_count": 2,
   "metadata": {
    "tags": []
   },
   "outputs": [],
   "source": [
    "bone_data = BoneData()"
   ]
  },
  {
   "cell_type": "code",
   "execution_count": 3,
   "metadata": {},
   "outputs": [
    {
     "output_type": "stream",
     "name": "stdout",
     "text": [
      "(500, 200, 200, 3) (500, 200, 200, 1)\n"
     ]
    }
   ],
   "source": [
    "print(bone_data.images_data.shape, bone_data.labels_data.shape)"
   ]
  },
  {
   "cell_type": "code",
   "execution_count": null,
   "metadata": {},
   "outputs": [],
   "source": [
    "import PIL\n",
    "from PIL import ImageOps, Image\n",
    "import numpy as np\n",
    "\n",
    "image_index = 283 - 1\n",
    "im_xray = Image.fromarray(bone_data.images_data[image_index])\n",
    "im_bone = Image.fromarray(bone_data.labels_data[image_index])\n",
    "\n",
    "im_contrast = ImageOps.autocontrast(im_bone, cutoff = 2, ignore = 2)\n",
    "  \n",
    "display(im_xray)\n",
    "display(im_contrast)"
   ]
  },
  {
   "cell_type": "code",
   "execution_count": null,
   "metadata": {},
   "outputs": [],
   "source": [
    "from xnet import model as Model\n",
    "import tensorflow as tf\n",
    "from tensorflow import keras\n",
    "with tf.device(\"cpu\"):\n",
    "    # Free up RAM in case the model definition cells were run multiple times\n",
    "    keras.backend.clear_session()\n",
    "    xnet_model = Model(input_shape=(200, 200, 3), classes=2)"
   ]
  },
  {
   "cell_type": "code",
   "execution_count": null,
   "metadata": {},
   "outputs": [],
   "source": [
    "xnet_model.summary()"
   ]
  },
  {
   "cell_type": "code",
   "execution_count": null,
   "metadata": {},
   "outputs": [],
   "source": [
    "xnet_model.compile(optimizer=\"rmsprop\", loss=\"sparse_categorical_crossentropy\")"
   ]
  },
  {
   "cell_type": "code",
   "execution_count": null,
   "metadata": {},
   "outputs": [],
   "source": [
    "epochs = 2\n",
    "xnet_model.fit(bone_data.data, epochs=epochs)"
   ]
  },
  {
   "cell_type": "code",
   "execution_count": 7,
   "metadata": {},
   "outputs": [],
   "source": [
    "from keras_model import get_model\n",
    "import tensorflow as tf\n",
    "from tensorflow import keras\n",
    "img_size = (200, 200)\n",
    "num_classes = 2\n",
    "with tf.device(\"cpu\"):\n",
    "    # Free up RAM in case the model definition cells were run multiple times\n",
    "    keras.backend.clear_session()\n",
    "    model = get_model(img_size, num_classes)"
   ]
  },
  {
   "cell_type": "code",
   "execution_count": 8,
   "metadata": {},
   "outputs": [
    {
     "output_type": "stream",
     "name": "stdout",
     "text": [
      "Model: \"model\"\n__________________________________________________________________________________________________\nLayer (type)                    Output Shape         Param #     Connected to                     \n==================================================================================================\ninput_1 (InputLayer)            [(None, 200, 200, 3) 0                                            \n__________________________________________________________________________________________________\nconv2d (Conv2D)                 (None, 100, 100, 32) 896         input_1[0][0]                    \n__________________________________________________________________________________________________\nbatch_normalization (BatchNorma (None, 100, 100, 32) 128         conv2d[0][0]                     \n__________________________________________________________________________________________________\nactivation (Activation)         (None, 100, 100, 32) 0           batch_normalization[0][0]        \n__________________________________________________________________________________________________\nactivation_1 (Activation)       (None, 100, 100, 32) 0           activation[0][0]                 \n__________________________________________________________________________________________________\nseparable_conv2d (SeparableConv (None, 100, 100, 64) 2400        activation_1[0][0]               \n__________________________________________________________________________________________________\nbatch_normalization_1 (BatchNor (None, 100, 100, 64) 256         separable_conv2d[0][0]           \n__________________________________________________________________________________________________\nactivation_2 (Activation)       (None, 100, 100, 64) 0           batch_normalization_1[0][0]      \n__________________________________________________________________________________________________\nseparable_conv2d_1 (SeparableCo (None, 100, 100, 64) 4736        activation_2[0][0]               \n__________________________________________________________________________________________________\nbatch_normalization_2 (BatchNor (None, 100, 100, 64) 256         separable_conv2d_1[0][0]         \n__________________________________________________________________________________________________\nmax_pooling2d (MaxPooling2D)    (None, 50, 50, 64)   0           batch_normalization_2[0][0]      \n__________________________________________________________________________________________________\nconv2d_1 (Conv2D)               (None, 50, 50, 64)   2112        activation[0][0]                 \n__________________________________________________________________________________________________\nadd (Add)                       (None, 50, 50, 64)   0           max_pooling2d[0][0]              \n                                                                 conv2d_1[0][0]                   \n__________________________________________________________________________________________________\nactivation_3 (Activation)       (None, 50, 50, 64)   0           add[0][0]                        \n__________________________________________________________________________________________________\nseparable_conv2d_2 (SeparableCo (None, 50, 50, 128)  8896        activation_3[0][0]               \n__________________________________________________________________________________________________\nbatch_normalization_3 (BatchNor (None, 50, 50, 128)  512         separable_conv2d_2[0][0]         \n__________________________________________________________________________________________________\nactivation_4 (Activation)       (None, 50, 50, 128)  0           batch_normalization_3[0][0]      \n__________________________________________________________________________________________________\nseparable_conv2d_3 (SeparableCo (None, 50, 50, 128)  17664       activation_4[0][0]               \n__________________________________________________________________________________________________\nbatch_normalization_4 (BatchNor (None, 50, 50, 128)  512         separable_conv2d_3[0][0]         \n__________________________________________________________________________________________________\nmax_pooling2d_1 (MaxPooling2D)  (None, 25, 25, 128)  0           batch_normalization_4[0][0]      \n__________________________________________________________________________________________________\nconv2d_2 (Conv2D)               (None, 25, 25, 128)  8320        add[0][0]                        \n__________________________________________________________________________________________________\nadd_1 (Add)                     (None, 25, 25, 128)  0           max_pooling2d_1[0][0]            \n                                                                 conv2d_2[0][0]                   \n__________________________________________________________________________________________________\nactivation_5 (Activation)       (None, 25, 25, 128)  0           add_1[0][0]                      \n__________________________________________________________________________________________________\nseparable_conv2d_4 (SeparableCo (None, 25, 25, 256)  34176       activation_5[0][0]               \n__________________________________________________________________________________________________\nbatch_normalization_5 (BatchNor (None, 25, 25, 256)  1024        separable_conv2d_4[0][0]         \n__________________________________________________________________________________________________\nactivation_6 (Activation)       (None, 25, 25, 256)  0           batch_normalization_5[0][0]      \n__________________________________________________________________________________________________\nseparable_conv2d_5 (SeparableCo (None, 25, 25, 256)  68096       activation_6[0][0]               \n__________________________________________________________________________________________________\nbatch_normalization_6 (BatchNor (None, 25, 25, 256)  1024        separable_conv2d_5[0][0]         \n__________________________________________________________________________________________________\nmax_pooling2d_2 (MaxPooling2D)  (None, 13, 13, 256)  0           batch_normalization_6[0][0]      \n__________________________________________________________________________________________________\nconv2d_3 (Conv2D)               (None, 13, 13, 256)  33024       add_1[0][0]                      \n__________________________________________________________________________________________________\nadd_2 (Add)                     (None, 13, 13, 256)  0           max_pooling2d_2[0][0]            \n                                                                 conv2d_3[0][0]                   \n__________________________________________________________________________________________________\nactivation_7 (Activation)       (None, 13, 13, 256)  0           add_2[0][0]                      \n__________________________________________________________________________________________________\nconv2d_transpose (Conv2DTranspo (None, 13, 13, 256)  590080      activation_7[0][0]               \n__________________________________________________________________________________________________\nbatch_normalization_7 (BatchNor (None, 13, 13, 256)  1024        conv2d_transpose[0][0]           \n__________________________________________________________________________________________________\nactivation_8 (Activation)       (None, 13, 13, 256)  0           batch_normalization_7[0][0]      \n__________________________________________________________________________________________________\nconv2d_transpose_1 (Conv2DTrans (None, 13, 13, 256)  590080      activation_8[0][0]               \n__________________________________________________________________________________________________\nbatch_normalization_8 (BatchNor (None, 13, 13, 256)  1024        conv2d_transpose_1[0][0]         \n__________________________________________________________________________________________________\nup_sampling2d_1 (UpSampling2D)  (None, 26, 26, 256)  0           add_2[0][0]                      \n__________________________________________________________________________________________________\nup_sampling2d (UpSampling2D)    (None, 26, 26, 256)  0           batch_normalization_8[0][0]      \n__________________________________________________________________________________________________\nconv2d_4 (Conv2D)               (None, 26, 26, 256)  65792       up_sampling2d_1[0][0]            \n__________________________________________________________________________________________________\nadd_3 (Add)                     (None, 26, 26, 256)  0           up_sampling2d[0][0]              \n                                                                 conv2d_4[0][0]                   \n__________________________________________________________________________________________________\nactivation_9 (Activation)       (None, 26, 26, 256)  0           add_3[0][0]                      \n__________________________________________________________________________________________________\nconv2d_transpose_2 (Conv2DTrans (None, 26, 26, 128)  295040      activation_9[0][0]               \n__________________________________________________________________________________________________\nbatch_normalization_9 (BatchNor (None, 26, 26, 128)  512         conv2d_transpose_2[0][0]         \n__________________________________________________________________________________________________\nactivation_10 (Activation)      (None, 26, 26, 128)  0           batch_normalization_9[0][0]      \n__________________________________________________________________________________________________\nconv2d_transpose_3 (Conv2DTrans (None, 26, 26, 128)  147584      activation_10[0][0]              \n__________________________________________________________________________________________________\nbatch_normalization_10 (BatchNo (None, 26, 26, 128)  512         conv2d_transpose_3[0][0]         \n__________________________________________________________________________________________________\nup_sampling2d_3 (UpSampling2D)  (None, 52, 52, 256)  0           add_3[0][0]                      \n__________________________________________________________________________________________________\nup_sampling2d_2 (UpSampling2D)  (None, 52, 52, 128)  0           batch_normalization_10[0][0]     \n__________________________________________________________________________________________________\nconv2d_5 (Conv2D)               (None, 52, 52, 128)  32896       up_sampling2d_3[0][0]            \n__________________________________________________________________________________________________\nadd_4 (Add)                     (None, 52, 52, 128)  0           up_sampling2d_2[0][0]            \n                                                                 conv2d_5[0][0]                   \n__________________________________________________________________________________________________\nactivation_11 (Activation)      (None, 52, 52, 128)  0           add_4[0][0]                      \n__________________________________________________________________________________________________\nconv2d_transpose_4 (Conv2DTrans (None, 52, 52, 64)   73792       activation_11[0][0]              \n__________________________________________________________________________________________________\nbatch_normalization_11 (BatchNo (None, 52, 52, 64)   256         conv2d_transpose_4[0][0]         \n__________________________________________________________________________________________________\nactivation_12 (Activation)      (None, 52, 52, 64)   0           batch_normalization_11[0][0]     \n__________________________________________________________________________________________________\nconv2d_transpose_5 (Conv2DTrans (None, 52, 52, 64)   36928       activation_12[0][0]              \n__________________________________________________________________________________________________\nbatch_normalization_12 (BatchNo (None, 52, 52, 64)   256         conv2d_transpose_5[0][0]         \n__________________________________________________________________________________________________\nup_sampling2d_5 (UpSampling2D)  (None, 104, 104, 128 0           add_4[0][0]                      \n__________________________________________________________________________________________________\nup_sampling2d_4 (UpSampling2D)  (None, 104, 104, 64) 0           batch_normalization_12[0][0]     \n__________________________________________________________________________________________________\nconv2d_6 (Conv2D)               (None, 104, 104, 64) 8256        up_sampling2d_5[0][0]            \n__________________________________________________________________________________________________\nadd_5 (Add)                     (None, 104, 104, 64) 0           up_sampling2d_4[0][0]            \n                                                                 conv2d_6[0][0]                   \n__________________________________________________________________________________________________\nactivation_13 (Activation)      (None, 104, 104, 64) 0           add_5[0][0]                      \n__________________________________________________________________________________________________\nconv2d_transpose_6 (Conv2DTrans (None, 104, 104, 32) 18464       activation_13[0][0]              \n__________________________________________________________________________________________________\nbatch_normalization_13 (BatchNo (None, 104, 104, 32) 128         conv2d_transpose_6[0][0]         \n__________________________________________________________________________________________________\nactivation_14 (Activation)      (None, 104, 104, 32) 0           batch_normalization_13[0][0]     \n__________________________________________________________________________________________________\nconv2d_transpose_7 (Conv2DTrans (None, 104, 104, 32) 9248        activation_14[0][0]              \n__________________________________________________________________________________________________\nbatch_normalization_14 (BatchNo (None, 104, 104, 32) 128         conv2d_transpose_7[0][0]         \n__________________________________________________________________________________________________\nup_sampling2d_7 (UpSampling2D)  (None, 208, 208, 64) 0           add_5[0][0]                      \n__________________________________________________________________________________________________\nup_sampling2d_6 (UpSampling2D)  (None, 208, 208, 32) 0           batch_normalization_14[0][0]     \n__________________________________________________________________________________________________\nconv2d_7 (Conv2D)               (None, 208, 208, 32) 2080        up_sampling2d_7[0][0]            \n__________________________________________________________________________________________________\nadd_6 (Add)                     (None, 208, 208, 32) 0           up_sampling2d_6[0][0]            \n                                                                 conv2d_7[0][0]                   \n__________________________________________________________________________________________________\nconv2d_8 (Conv2D)               (None, 208, 208, 2)  578         add_6[0][0]                      \n==================================================================================================\nTotal params: 2,058,690\nTrainable params: 2,054,914\nNon-trainable params: 3,776\n__________________________________________________________________________________________________\n"
     ]
    }
   ],
   "source": [
    "model.summary()"
   ]
  },
  {
   "cell_type": "code",
   "execution_count": 10,
   "metadata": {},
   "outputs": [
    {
     "output_type": "stream",
     "name": "stdout",
     "text": [
      "Epoch 1/2\n"
     ]
    },
    {
     "output_type": "error",
     "ename": "ValueError",
     "evalue": "in user code:\n\n    /home/bariscan/workspace/BoneSegmentation_IMA/.venv/lib/python3.8/site-packages/tensorflow/python/keras/engine/training.py:855 train_function  *\n        return step_function(self, iterator)\n    /home/bariscan/workspace/BoneSegmentation_IMA/.venv/lib/python3.8/site-packages/tensorflow/python/keras/engine/training.py:845 step_function  **\n        outputs = model.distribute_strategy.run(run_step, args=(data,))\n    /home/bariscan/workspace/BoneSegmentation_IMA/.venv/lib/python3.8/site-packages/tensorflow/python/distribute/distribute_lib.py:1285 run\n        return self._extended.call_for_each_replica(fn, args=args, kwargs=kwargs)\n    /home/bariscan/workspace/BoneSegmentation_IMA/.venv/lib/python3.8/site-packages/tensorflow/python/distribute/distribute_lib.py:2833 call_for_each_replica\n        return self._call_for_each_replica(fn, args, kwargs)\n    /home/bariscan/workspace/BoneSegmentation_IMA/.venv/lib/python3.8/site-packages/tensorflow/python/distribute/distribute_lib.py:3608 _call_for_each_replica\n        return fn(*args, **kwargs)\n    /home/bariscan/workspace/BoneSegmentation_IMA/.venv/lib/python3.8/site-packages/tensorflow/python/keras/engine/training.py:838 run_step  **\n        outputs = model.train_step(data)\n    /home/bariscan/workspace/BoneSegmentation_IMA/.venv/lib/python3.8/site-packages/tensorflow/python/keras/engine/training.py:795 train_step\n        y_pred = self(x, training=True)\n    /home/bariscan/workspace/BoneSegmentation_IMA/.venv/lib/python3.8/site-packages/tensorflow/python/keras/engine/base_layer.py:1013 __call__\n        input_spec.assert_input_compatibility(self.input_spec, inputs, self.name)\n    /home/bariscan/workspace/BoneSegmentation_IMA/.venv/lib/python3.8/site-packages/tensorflow/python/keras/engine/input_spec.py:200 assert_input_compatibility\n        raise ValueError('Layer ' + layer_name + ' expects ' +\n\n    ValueError: Layer model expects 1 input(s), but it received 2 input tensors. Inputs received: [<tf.Tensor 'IteratorGetNext:0' shape=(None, 200, 200, 3) dtype=uint8>, <tf.Tensor 'IteratorGetNext:1' shape=(None, 200, 200, 1) dtype=uint8>]\n",
     "traceback": [
      "\u001b[0;31m---------------------------------------------------------------------------\u001b[0m",
      "\u001b[0;31mValueError\u001b[0m                                Traceback (most recent call last)",
      "\u001b[0;32m/tmp/ipykernel_464321/2847901820.py\u001b[0m in \u001b[0;36m<module>\u001b[0;34m\u001b[0m\n\u001b[1;32m      2\u001b[0m \u001b[0;31m# Train the model, doing validation at the end of each epoch.\u001b[0m\u001b[0;34m\u001b[0m\u001b[0;34m\u001b[0m\u001b[0;34m\u001b[0m\u001b[0m\n\u001b[1;32m      3\u001b[0m \u001b[0mepochs\u001b[0m \u001b[0;34m=\u001b[0m \u001b[0;36m2\u001b[0m\u001b[0;34m\u001b[0m\u001b[0;34m\u001b[0m\u001b[0m\n\u001b[0;32m----> 4\u001b[0;31m \u001b[0mmodel\u001b[0m\u001b[0;34m.\u001b[0m\u001b[0mfit\u001b[0m\u001b[0;34m(\u001b[0m\u001b[0mbone_data\u001b[0m\u001b[0;34m.\u001b[0m\u001b[0mdata\u001b[0m\u001b[0;34m,\u001b[0m \u001b[0mvalidation_data\u001b[0m\u001b[0;34m=\u001b[0m\u001b[0mbone_data\u001b[0m\u001b[0;34m.\u001b[0m\u001b[0mdata\u001b[0m\u001b[0;34m,\u001b[0m \u001b[0mepochs\u001b[0m\u001b[0;34m=\u001b[0m\u001b[0mepochs\u001b[0m\u001b[0;34m)\u001b[0m\u001b[0;34m\u001b[0m\u001b[0;34m\u001b[0m\u001b[0m\n\u001b[0m",
      "\u001b[0;32m~/workspace/BoneSegmentation_IMA/.venv/lib/python3.8/site-packages/tensorflow/python/keras/engine/training.py\u001b[0m in \u001b[0;36mfit\u001b[0;34m(self, x, y, batch_size, epochs, verbose, callbacks, validation_split, validation_data, shuffle, class_weight, sample_weight, initial_epoch, steps_per_epoch, validation_steps, validation_batch_size, validation_freq, max_queue_size, workers, use_multiprocessing)\u001b[0m\n\u001b[1;32m   1181\u001b[0m                 _r=1):\n\u001b[1;32m   1182\u001b[0m               \u001b[0mcallbacks\u001b[0m\u001b[0;34m.\u001b[0m\u001b[0mon_train_batch_begin\u001b[0m\u001b[0;34m(\u001b[0m\u001b[0mstep\u001b[0m\u001b[0;34m)\u001b[0m\u001b[0;34m\u001b[0m\u001b[0;34m\u001b[0m\u001b[0m\n\u001b[0;32m-> 1183\u001b[0;31m               \u001b[0mtmp_logs\u001b[0m \u001b[0;34m=\u001b[0m \u001b[0mself\u001b[0m\u001b[0;34m.\u001b[0m\u001b[0mtrain_function\u001b[0m\u001b[0;34m(\u001b[0m\u001b[0miterator\u001b[0m\u001b[0;34m)\u001b[0m\u001b[0;34m\u001b[0m\u001b[0;34m\u001b[0m\u001b[0m\n\u001b[0m\u001b[1;32m   1184\u001b[0m               \u001b[0;32mif\u001b[0m \u001b[0mdata_handler\u001b[0m\u001b[0;34m.\u001b[0m\u001b[0mshould_sync\u001b[0m\u001b[0;34m:\u001b[0m\u001b[0;34m\u001b[0m\u001b[0;34m\u001b[0m\u001b[0m\n\u001b[1;32m   1185\u001b[0m                 \u001b[0mcontext\u001b[0m\u001b[0;34m.\u001b[0m\u001b[0masync_wait\u001b[0m\u001b[0;34m(\u001b[0m\u001b[0;34m)\u001b[0m\u001b[0;34m\u001b[0m\u001b[0;34m\u001b[0m\u001b[0m\n",
      "\u001b[0;32m~/workspace/BoneSegmentation_IMA/.venv/lib/python3.8/site-packages/tensorflow/python/eager/def_function.py\u001b[0m in \u001b[0;36m__call__\u001b[0;34m(self, *args, **kwds)\u001b[0m\n\u001b[1;32m    887\u001b[0m \u001b[0;34m\u001b[0m\u001b[0m\n\u001b[1;32m    888\u001b[0m       \u001b[0;32mwith\u001b[0m \u001b[0mOptionalXlaContext\u001b[0m\u001b[0;34m(\u001b[0m\u001b[0mself\u001b[0m\u001b[0;34m.\u001b[0m\u001b[0m_jit_compile\u001b[0m\u001b[0;34m)\u001b[0m\u001b[0;34m:\u001b[0m\u001b[0;34m\u001b[0m\u001b[0;34m\u001b[0m\u001b[0m\n\u001b[0;32m--> 889\u001b[0;31m         \u001b[0mresult\u001b[0m \u001b[0;34m=\u001b[0m \u001b[0mself\u001b[0m\u001b[0;34m.\u001b[0m\u001b[0m_call\u001b[0m\u001b[0;34m(\u001b[0m\u001b[0;34m*\u001b[0m\u001b[0margs\u001b[0m\u001b[0;34m,\u001b[0m \u001b[0;34m**\u001b[0m\u001b[0mkwds\u001b[0m\u001b[0;34m)\u001b[0m\u001b[0;34m\u001b[0m\u001b[0;34m\u001b[0m\u001b[0m\n\u001b[0m\u001b[1;32m    890\u001b[0m \u001b[0;34m\u001b[0m\u001b[0m\n\u001b[1;32m    891\u001b[0m       \u001b[0mnew_tracing_count\u001b[0m \u001b[0;34m=\u001b[0m \u001b[0mself\u001b[0m\u001b[0;34m.\u001b[0m\u001b[0mexperimental_get_tracing_count\u001b[0m\u001b[0;34m(\u001b[0m\u001b[0;34m)\u001b[0m\u001b[0;34m\u001b[0m\u001b[0;34m\u001b[0m\u001b[0m\n",
      "\u001b[0;32m~/workspace/BoneSegmentation_IMA/.venv/lib/python3.8/site-packages/tensorflow/python/eager/def_function.py\u001b[0m in \u001b[0;36m_call\u001b[0;34m(self, *args, **kwds)\u001b[0m\n\u001b[1;32m    931\u001b[0m       \u001b[0;31m# This is the first call of __call__, so we have to initialize.\u001b[0m\u001b[0;34m\u001b[0m\u001b[0;34m\u001b[0m\u001b[0;34m\u001b[0m\u001b[0m\n\u001b[1;32m    932\u001b[0m       \u001b[0minitializers\u001b[0m \u001b[0;34m=\u001b[0m \u001b[0;34m[\u001b[0m\u001b[0;34m]\u001b[0m\u001b[0;34m\u001b[0m\u001b[0;34m\u001b[0m\u001b[0m\n\u001b[0;32m--> 933\u001b[0;31m       \u001b[0mself\u001b[0m\u001b[0;34m.\u001b[0m\u001b[0m_initialize\u001b[0m\u001b[0;34m(\u001b[0m\u001b[0margs\u001b[0m\u001b[0;34m,\u001b[0m \u001b[0mkwds\u001b[0m\u001b[0;34m,\u001b[0m \u001b[0madd_initializers_to\u001b[0m\u001b[0;34m=\u001b[0m\u001b[0minitializers\u001b[0m\u001b[0;34m)\u001b[0m\u001b[0;34m\u001b[0m\u001b[0;34m\u001b[0m\u001b[0m\n\u001b[0m\u001b[1;32m    934\u001b[0m     \u001b[0;32mfinally\u001b[0m\u001b[0;34m:\u001b[0m\u001b[0;34m\u001b[0m\u001b[0;34m\u001b[0m\u001b[0m\n\u001b[1;32m    935\u001b[0m       \u001b[0;31m# At this point we know that the initialization is complete (or less\u001b[0m\u001b[0;34m\u001b[0m\u001b[0;34m\u001b[0m\u001b[0;34m\u001b[0m\u001b[0m\n",
      "\u001b[0;32m~/workspace/BoneSegmentation_IMA/.venv/lib/python3.8/site-packages/tensorflow/python/eager/def_function.py\u001b[0m in \u001b[0;36m_initialize\u001b[0;34m(self, args, kwds, add_initializers_to)\u001b[0m\n\u001b[1;32m    761\u001b[0m     \u001b[0mself\u001b[0m\u001b[0;34m.\u001b[0m\u001b[0m_graph_deleter\u001b[0m \u001b[0;34m=\u001b[0m \u001b[0mFunctionDeleter\u001b[0m\u001b[0;34m(\u001b[0m\u001b[0mself\u001b[0m\u001b[0;34m.\u001b[0m\u001b[0m_lifted_initializer_graph\u001b[0m\u001b[0;34m)\u001b[0m\u001b[0;34m\u001b[0m\u001b[0;34m\u001b[0m\u001b[0m\n\u001b[1;32m    762\u001b[0m     self._concrete_stateful_fn = (\n\u001b[0;32m--> 763\u001b[0;31m         self._stateful_fn._get_concrete_function_internal_garbage_collected(  # pylint: disable=protected-access\n\u001b[0m\u001b[1;32m    764\u001b[0m             *args, **kwds))\n\u001b[1;32m    765\u001b[0m \u001b[0;34m\u001b[0m\u001b[0m\n",
      "\u001b[0;32m~/workspace/BoneSegmentation_IMA/.venv/lib/python3.8/site-packages/tensorflow/python/eager/function.py\u001b[0m in \u001b[0;36m_get_concrete_function_internal_garbage_collected\u001b[0;34m(self, *args, **kwargs)\u001b[0m\n\u001b[1;32m   3048\u001b[0m       \u001b[0margs\u001b[0m\u001b[0;34m,\u001b[0m \u001b[0mkwargs\u001b[0m \u001b[0;34m=\u001b[0m \u001b[0;32mNone\u001b[0m\u001b[0;34m,\u001b[0m \u001b[0;32mNone\u001b[0m\u001b[0;34m\u001b[0m\u001b[0;34m\u001b[0m\u001b[0m\n\u001b[1;32m   3049\u001b[0m     \u001b[0;32mwith\u001b[0m \u001b[0mself\u001b[0m\u001b[0;34m.\u001b[0m\u001b[0m_lock\u001b[0m\u001b[0;34m:\u001b[0m\u001b[0;34m\u001b[0m\u001b[0;34m\u001b[0m\u001b[0m\n\u001b[0;32m-> 3050\u001b[0;31m       \u001b[0mgraph_function\u001b[0m\u001b[0;34m,\u001b[0m \u001b[0m_\u001b[0m \u001b[0;34m=\u001b[0m \u001b[0mself\u001b[0m\u001b[0;34m.\u001b[0m\u001b[0m_maybe_define_function\u001b[0m\u001b[0;34m(\u001b[0m\u001b[0margs\u001b[0m\u001b[0;34m,\u001b[0m \u001b[0mkwargs\u001b[0m\u001b[0;34m)\u001b[0m\u001b[0;34m\u001b[0m\u001b[0;34m\u001b[0m\u001b[0m\n\u001b[0m\u001b[1;32m   3051\u001b[0m     \u001b[0;32mreturn\u001b[0m \u001b[0mgraph_function\u001b[0m\u001b[0;34m\u001b[0m\u001b[0;34m\u001b[0m\u001b[0m\n\u001b[1;32m   3052\u001b[0m \u001b[0;34m\u001b[0m\u001b[0m\n",
      "\u001b[0;32m~/workspace/BoneSegmentation_IMA/.venv/lib/python3.8/site-packages/tensorflow/python/eager/function.py\u001b[0m in \u001b[0;36m_maybe_define_function\u001b[0;34m(self, args, kwargs)\u001b[0m\n\u001b[1;32m   3442\u001b[0m \u001b[0;34m\u001b[0m\u001b[0m\n\u001b[1;32m   3443\u001b[0m           \u001b[0mself\u001b[0m\u001b[0;34m.\u001b[0m\u001b[0m_function_cache\u001b[0m\u001b[0;34m.\u001b[0m\u001b[0mmissed\u001b[0m\u001b[0;34m.\u001b[0m\u001b[0madd\u001b[0m\u001b[0;34m(\u001b[0m\u001b[0mcall_context_key\u001b[0m\u001b[0;34m)\u001b[0m\u001b[0;34m\u001b[0m\u001b[0;34m\u001b[0m\u001b[0m\n\u001b[0;32m-> 3444\u001b[0;31m           \u001b[0mgraph_function\u001b[0m \u001b[0;34m=\u001b[0m \u001b[0mself\u001b[0m\u001b[0;34m.\u001b[0m\u001b[0m_create_graph_function\u001b[0m\u001b[0;34m(\u001b[0m\u001b[0margs\u001b[0m\u001b[0;34m,\u001b[0m \u001b[0mkwargs\u001b[0m\u001b[0;34m)\u001b[0m\u001b[0;34m\u001b[0m\u001b[0;34m\u001b[0m\u001b[0m\n\u001b[0m\u001b[1;32m   3445\u001b[0m           \u001b[0mself\u001b[0m\u001b[0;34m.\u001b[0m\u001b[0m_function_cache\u001b[0m\u001b[0;34m.\u001b[0m\u001b[0mprimary\u001b[0m\u001b[0;34m[\u001b[0m\u001b[0mcache_key\u001b[0m\u001b[0;34m]\u001b[0m \u001b[0;34m=\u001b[0m \u001b[0mgraph_function\u001b[0m\u001b[0;34m\u001b[0m\u001b[0;34m\u001b[0m\u001b[0m\n\u001b[1;32m   3446\u001b[0m \u001b[0;34m\u001b[0m\u001b[0m\n",
      "\u001b[0;32m~/workspace/BoneSegmentation_IMA/.venv/lib/python3.8/site-packages/tensorflow/python/eager/function.py\u001b[0m in \u001b[0;36m_create_graph_function\u001b[0;34m(self, args, kwargs, override_flat_arg_shapes)\u001b[0m\n\u001b[1;32m   3277\u001b[0m     \u001b[0marg_names\u001b[0m \u001b[0;34m=\u001b[0m \u001b[0mbase_arg_names\u001b[0m \u001b[0;34m+\u001b[0m \u001b[0mmissing_arg_names\u001b[0m\u001b[0;34m\u001b[0m\u001b[0;34m\u001b[0m\u001b[0m\n\u001b[1;32m   3278\u001b[0m     graph_function = ConcreteFunction(\n\u001b[0;32m-> 3279\u001b[0;31m         func_graph_module.func_graph_from_py_func(\n\u001b[0m\u001b[1;32m   3280\u001b[0m             \u001b[0mself\u001b[0m\u001b[0;34m.\u001b[0m\u001b[0m_name\u001b[0m\u001b[0;34m,\u001b[0m\u001b[0;34m\u001b[0m\u001b[0;34m\u001b[0m\u001b[0m\n\u001b[1;32m   3281\u001b[0m             \u001b[0mself\u001b[0m\u001b[0;34m.\u001b[0m\u001b[0m_python_function\u001b[0m\u001b[0;34m,\u001b[0m\u001b[0;34m\u001b[0m\u001b[0;34m\u001b[0m\u001b[0m\n",
      "\u001b[0;32m~/workspace/BoneSegmentation_IMA/.venv/lib/python3.8/site-packages/tensorflow/python/framework/func_graph.py\u001b[0m in \u001b[0;36mfunc_graph_from_py_func\u001b[0;34m(name, python_func, args, kwargs, signature, func_graph, autograph, autograph_options, add_control_dependencies, arg_names, op_return_value, collections, capture_by_value, override_flat_arg_shapes)\u001b[0m\n\u001b[1;32m    997\u001b[0m         \u001b[0m_\u001b[0m\u001b[0;34m,\u001b[0m \u001b[0moriginal_func\u001b[0m \u001b[0;34m=\u001b[0m \u001b[0mtf_decorator\u001b[0m\u001b[0;34m.\u001b[0m\u001b[0munwrap\u001b[0m\u001b[0;34m(\u001b[0m\u001b[0mpython_func\u001b[0m\u001b[0;34m)\u001b[0m\u001b[0;34m\u001b[0m\u001b[0;34m\u001b[0m\u001b[0m\n\u001b[1;32m    998\u001b[0m \u001b[0;34m\u001b[0m\u001b[0m\n\u001b[0;32m--> 999\u001b[0;31m       \u001b[0mfunc_outputs\u001b[0m \u001b[0;34m=\u001b[0m \u001b[0mpython_func\u001b[0m\u001b[0;34m(\u001b[0m\u001b[0;34m*\u001b[0m\u001b[0mfunc_args\u001b[0m\u001b[0;34m,\u001b[0m \u001b[0;34m**\u001b[0m\u001b[0mfunc_kwargs\u001b[0m\u001b[0;34m)\u001b[0m\u001b[0;34m\u001b[0m\u001b[0;34m\u001b[0m\u001b[0m\n\u001b[0m\u001b[1;32m   1000\u001b[0m \u001b[0;34m\u001b[0m\u001b[0m\n\u001b[1;32m   1001\u001b[0m       \u001b[0;31m# invariant: `func_outputs` contains only Tensors, CompositeTensors,\u001b[0m\u001b[0;34m\u001b[0m\u001b[0;34m\u001b[0m\u001b[0;34m\u001b[0m\u001b[0m\n",
      "\u001b[0;32m~/workspace/BoneSegmentation_IMA/.venv/lib/python3.8/site-packages/tensorflow/python/eager/def_function.py\u001b[0m in \u001b[0;36mwrapped_fn\u001b[0;34m(*args, **kwds)\u001b[0m\n\u001b[1;32m    670\u001b[0m         \u001b[0;31m# the function a weak reference to itself to avoid a reference cycle.\u001b[0m\u001b[0;34m\u001b[0m\u001b[0;34m\u001b[0m\u001b[0;34m\u001b[0m\u001b[0m\n\u001b[1;32m    671\u001b[0m         \u001b[0;32mwith\u001b[0m \u001b[0mOptionalXlaContext\u001b[0m\u001b[0;34m(\u001b[0m\u001b[0mcompile_with_xla\u001b[0m\u001b[0;34m)\u001b[0m\u001b[0;34m:\u001b[0m\u001b[0;34m\u001b[0m\u001b[0;34m\u001b[0m\u001b[0m\n\u001b[0;32m--> 672\u001b[0;31m           \u001b[0mout\u001b[0m \u001b[0;34m=\u001b[0m \u001b[0mweak_wrapped_fn\u001b[0m\u001b[0;34m(\u001b[0m\u001b[0;34m)\u001b[0m\u001b[0;34m.\u001b[0m\u001b[0m__wrapped__\u001b[0m\u001b[0;34m(\u001b[0m\u001b[0;34m*\u001b[0m\u001b[0margs\u001b[0m\u001b[0;34m,\u001b[0m \u001b[0;34m**\u001b[0m\u001b[0mkwds\u001b[0m\u001b[0;34m)\u001b[0m\u001b[0;34m\u001b[0m\u001b[0;34m\u001b[0m\u001b[0m\n\u001b[0m\u001b[1;32m    673\u001b[0m         \u001b[0;32mreturn\u001b[0m \u001b[0mout\u001b[0m\u001b[0;34m\u001b[0m\u001b[0;34m\u001b[0m\u001b[0m\n\u001b[1;32m    674\u001b[0m \u001b[0;34m\u001b[0m\u001b[0m\n",
      "\u001b[0;32m~/workspace/BoneSegmentation_IMA/.venv/lib/python3.8/site-packages/tensorflow/python/framework/func_graph.py\u001b[0m in \u001b[0;36mwrapper\u001b[0;34m(*args, **kwargs)\u001b[0m\n\u001b[1;32m    984\u001b[0m           \u001b[0;32mexcept\u001b[0m \u001b[0mException\u001b[0m \u001b[0;32mas\u001b[0m \u001b[0me\u001b[0m\u001b[0;34m:\u001b[0m  \u001b[0;31m# pylint:disable=broad-except\u001b[0m\u001b[0;34m\u001b[0m\u001b[0;34m\u001b[0m\u001b[0m\n\u001b[1;32m    985\u001b[0m             \u001b[0;32mif\u001b[0m \u001b[0mhasattr\u001b[0m\u001b[0;34m(\u001b[0m\u001b[0me\u001b[0m\u001b[0;34m,\u001b[0m \u001b[0;34m\"ag_error_metadata\"\u001b[0m\u001b[0;34m)\u001b[0m\u001b[0;34m:\u001b[0m\u001b[0;34m\u001b[0m\u001b[0;34m\u001b[0m\u001b[0m\n\u001b[0;32m--> 986\u001b[0;31m               \u001b[0;32mraise\u001b[0m \u001b[0me\u001b[0m\u001b[0;34m.\u001b[0m\u001b[0mag_error_metadata\u001b[0m\u001b[0;34m.\u001b[0m\u001b[0mto_exception\u001b[0m\u001b[0;34m(\u001b[0m\u001b[0me\u001b[0m\u001b[0;34m)\u001b[0m\u001b[0;34m\u001b[0m\u001b[0;34m\u001b[0m\u001b[0m\n\u001b[0m\u001b[1;32m    987\u001b[0m             \u001b[0;32melse\u001b[0m\u001b[0;34m:\u001b[0m\u001b[0;34m\u001b[0m\u001b[0;34m\u001b[0m\u001b[0m\n\u001b[1;32m    988\u001b[0m               \u001b[0;32mraise\u001b[0m\u001b[0;34m\u001b[0m\u001b[0;34m\u001b[0m\u001b[0m\n",
      "\u001b[0;31mValueError\u001b[0m: in user code:\n\n    /home/bariscan/workspace/BoneSegmentation_IMA/.venv/lib/python3.8/site-packages/tensorflow/python/keras/engine/training.py:855 train_function  *\n        return step_function(self, iterator)\n    /home/bariscan/workspace/BoneSegmentation_IMA/.venv/lib/python3.8/site-packages/tensorflow/python/keras/engine/training.py:845 step_function  **\n        outputs = model.distribute_strategy.run(run_step, args=(data,))\n    /home/bariscan/workspace/BoneSegmentation_IMA/.venv/lib/python3.8/site-packages/tensorflow/python/distribute/distribute_lib.py:1285 run\n        return self._extended.call_for_each_replica(fn, args=args, kwargs=kwargs)\n    /home/bariscan/workspace/BoneSegmentation_IMA/.venv/lib/python3.8/site-packages/tensorflow/python/distribute/distribute_lib.py:2833 call_for_each_replica\n        return self._call_for_each_replica(fn, args, kwargs)\n    /home/bariscan/workspace/BoneSegmentation_IMA/.venv/lib/python3.8/site-packages/tensorflow/python/distribute/distribute_lib.py:3608 _call_for_each_replica\n        return fn(*args, **kwargs)\n    /home/bariscan/workspace/BoneSegmentation_IMA/.venv/lib/python3.8/site-packages/tensorflow/python/keras/engine/training.py:838 run_step  **\n        outputs = model.train_step(data)\n    /home/bariscan/workspace/BoneSegmentation_IMA/.venv/lib/python3.8/site-packages/tensorflow/python/keras/engine/training.py:795 train_step\n        y_pred = self(x, training=True)\n    /home/bariscan/workspace/BoneSegmentation_IMA/.venv/lib/python3.8/site-packages/tensorflow/python/keras/engine/base_layer.py:1013 __call__\n        input_spec.assert_input_compatibility(self.input_spec, inputs, self.name)\n    /home/bariscan/workspace/BoneSegmentation_IMA/.venv/lib/python3.8/site-packages/tensorflow/python/keras/engine/input_spec.py:200 assert_input_compatibility\n        raise ValueError('Layer ' + layer_name + ' expects ' +\n\n    ValueError: Layer model expects 1 input(s), but it received 2 input tensors. Inputs received: [<tf.Tensor 'IteratorGetNext:0' shape=(None, 200, 200, 3) dtype=uint8>, <tf.Tensor 'IteratorGetNext:1' shape=(None, 200, 200, 1) dtype=uint8>]\n"
     ]
    }
   ],
   "source": [
    "model.compile(optimizer=\"rmsprop\", loss=\"sparse_categorical_crossentropy\")\n",
    "# Train the model, doing validation at the end of each epoch.\n",
    "epochs = 2\n",
    "model.fit(bone_data.data, validation_data=bone_data.data, epochs=epochs)"
   ]
  },
  {
   "cell_type": "code",
   "execution_count": 11,
   "metadata": {},
   "outputs": [
    {
     "output_type": "execute_result",
     "data": {
      "text/plain": [
       "2"
      ]
     },
     "metadata": {},
     "execution_count": 11
    }
   ],
   "source": [
    "len(bone_data.data)"
   ]
  },
  {
   "cell_type": "code",
   "execution_count": null,
   "metadata": {},
   "outputs": [],
   "source": []
  }
 ]
}