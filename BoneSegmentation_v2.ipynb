{
 "metadata": {
  "language_info": {
   "codemirror_mode": {
    "name": "ipython",
    "version": 3
   },
   "file_extension": ".py",
   "mimetype": "text/x-python",
   "name": "python",
   "nbconvert_exporter": "python",
   "pygments_lexer": "ipython3",
   "version": "3.8.10"
  },
  "orig_nbformat": 4,
  "kernelspec": {
   "name": "python3",
   "display_name": "Python 3.8.5 64-bit ('.venv': pipenv)"
  },
  "interpreter": {
   "hash": "5a2fe2c165f5be54a00b373373fff34b3e324ef3054311fac64ab317a2f1c921"
  }
 },
 "nbformat": 4,
 "nbformat_minor": 2,
 "cells": [
  {
   "cell_type": "code",
   "execution_count": 1,
   "metadata": {},
   "outputs": [],
   "source": [
    "from bone_data import BoneData"
   ]
  },
  {
   "cell_type": "code",
   "execution_count": 2,
   "metadata": {
    "tags": []
   },
   "outputs": [],
   "source": [
    "bone_data = BoneData()"
   ]
  },
  {
   "cell_type": "code",
   "execution_count": 3,
   "metadata": {},
   "outputs": [
    {
     "output_type": "stream",
     "name": "stdout",
     "text": [
      "(500, 200, 200, 3) (500, 200, 200, 1)\n"
     ]
    }
   ],
   "source": [
    "print(bone_data.images_data.shape, bone_data.labels_data.shape)"
   ]
  },
  {
   "cell_type": "code",
   "execution_count": null,
   "metadata": {},
   "outputs": [],
   "source": [
    "import PIL\n",
    "from PIL import ImageOps, Image\n",
    "import numpy as np\n",
    "\n",
    "image_index = 283 - 1\n",
    "im_xray = Image.fromarray(bone_data.images_data[image_index])\n",
    "im_bone = Image.fromarray(bone_data.labels_data[image_index])\n",
    "\n",
    "im_contrast = ImageOps.autocontrast(im_bone, cutoff = 2, ignore = 2)\n",
    "  \n",
    "display(im_xray)\n",
    "display(im_contrast)"
   ]
  },
  {
   "cell_type": "code",
   "execution_count": null,
   "metadata": {},
   "outputs": [],
   "source": [
    "from xnet import model as Model\n",
    "import tensorflow as tf\n",
    "from tensorflow import keras\n",
    "with tf.device(\"cpu\"):\n",
    "    # Free up RAM in case the model definition cells were run multiple times\n",
    "    keras.backend.clear_session()\n",
    "    xnet_model = Model(input_shape=(200, 200, 3), classes=2)"
   ]
  },
  {
   "cell_type": "code",
   "execution_count": null,
   "metadata": {},
   "outputs": [],
   "source": [
    "xnet_model.summary()"
   ]
  },
  {
   "cell_type": "code",
   "execution_count": null,
   "metadata": {},
   "outputs": [],
   "source": [
    "xnet_model.compile(optimizer=\"rmsprop\", loss=\"sparse_categorical_crossentropy\")"
   ]
  },
  {
   "cell_type": "code",
   "execution_count": null,
   "metadata": {},
   "outputs": [],
   "source": [
    "epochs = 2\n",
    "xnet_model.fit(bone_data.data, epochs=epochs)"
   ]
  },
  {
   "cell_type": "code",
   "execution_count": 7,
   "metadata": {},
   "outputs": [],
   "source": [
    "from keras_model import get_model\n",
    "import tensorflow as tf\n",
    "from tensorflow import keras\n",
    "img_size = (200, 200)\n",
    "num_classes = 2\n",
    "with tf.device(\"cpu\"):\n",
    "    # Free up RAM in case the model definition cells were run multiple times\n",
    "    keras.backend.clear_session()\n",
    "    model = get_model(img_size, num_classes)"
   ]
  },
  {
   "cell_type": "code",
   "execution_count": 8,
   "metadata": {},
   "outputs": [
    {
     "output_type": "stream",
     "name": "stdout",
     "text": [
      "Model: \"model\"\n__________________________________________________________________________________________________\nLayer (type)                    Output Shape         Param #     Connected to                     \n==================================================================================================\ninput_1 (InputLayer)            [(None, 200, 200, 3) 0                                            \n__________________________________________________________________________________________________\nconv2d (Conv2D)                 (None, 100, 100, 32) 896         input_1[0][0]                    \n__________________________________________________________________________________________________\nbatch_normalization (BatchNorma (None, 100, 100, 32) 128         conv2d[0][0]                     \n__________________________________________________________________________________________________\nactivation (Activation)         (None, 100, 100, 32) 0           batch_normalization[0][0]        \n__________________________________________________________________________________________________\nactivation_1 (Activation)       (None, 100, 100, 32) 0           activation[0][0]                 \n__________________________________________________________________________________________________\nseparable_conv2d (SeparableConv (None, 100, 100, 64) 2400        activation_1[0][0]               \n__________________________________________________________________________________________________\nbatch_normalization_1 (BatchNor (None, 100, 100, 64) 256         separable_conv2d[0][0]           \n__________________________________________________________________________________________________\nactivation_2 (Activation)       (None, 100, 100, 64) 0           batch_normalization_1[0][0]      \n__________________________________________________________________________________________________\nseparable_conv2d_1 (SeparableCo (None, 100, 100, 64) 4736        activation_2[0][0]               \n__________________________________________________________________________________________________\nbatch_normalization_2 (BatchNor (None, 100, 100, 64) 256         separable_conv2d_1[0][0]         \n__________________________________________________________________________________________________\nmax_pooling2d (MaxPooling2D)    (None, 50, 50, 64)   0           batch_normalization_2[0][0]      \n__________________________________________________________________________________________________\nconv2d_1 (Conv2D)               (None, 50, 50, 64)   2112        activation[0][0]                 \n__________________________________________________________________________________________________\nadd (Add)                       (None, 50, 50, 64)   0           max_pooling2d[0][0]              \n                                                                 conv2d_1[0][0]                   \n__________________________________________________________________________________________________\nactivation_3 (Activation)       (None, 50, 50, 64)   0           add[0][0]                        \n__________________________________________________________________________________________________\nseparable_conv2d_2 (SeparableCo (None, 50, 50, 128)  8896        activation_3[0][0]               \n__________________________________________________________________________________________________\nbatch_normalization_3 (BatchNor (None, 50, 50, 128)  512         separable_conv2d_2[0][0]         \n__________________________________________________________________________________________________\nactivation_4 (Activation)       (None, 50, 50, 128)  0           batch_normalization_3[0][0]      \n__________________________________________________________________________________________________\nseparable_conv2d_3 (SeparableCo (None, 50, 50, 128)  17664       activation_4[0][0]               \n__________________________________________________________________________________________________\nbatch_normalization_4 (BatchNor (None, 50, 50, 128)  512         separable_conv2d_3[0][0]         \n__________________________________________________________________________________________________\nmax_pooling2d_1 (MaxPooling2D)  (None, 25, 25, 128)  0           batch_normalization_4[0][0]      \n__________________________________________________________________________________________________\nconv2d_2 (Conv2D)               (None, 25, 25, 128)  8320        add[0][0]                        \n__________________________________________________________________________________________________\nadd_1 (Add)                     (None, 25, 25, 128)  0           max_pooling2d_1[0][0]            \n                                                                 conv2d_2[0][0]                   \n__________________________________________________________________________________________________\nactivation_5 (Activation)       (None, 25, 25, 128)  0           add_1[0][0]                      \n__________________________________________________________________________________________________\nseparable_conv2d_4 (SeparableCo (None, 25, 25, 256)  34176       activation_5[0][0]               \n__________________________________________________________________________________________________\nbatch_normalization_5 (BatchNor (None, 25, 25, 256)  1024        separable_conv2d_4[0][0]         \n__________________________________________________________________________________________________\nactivation_6 (Activation)       (None, 25, 25, 256)  0           batch_normalization_5[0][0]      \n__________________________________________________________________________________________________\nseparable_conv2d_5 (SeparableCo (None, 25, 25, 256)  68096       activation_6[0][0]               \n__________________________________________________________________________________________________\nbatch_normalization_6 (BatchNor (None, 25, 25, 256)  1024        separable_conv2d_5[0][0]         \n__________________________________________________________________________________________________\nmax_pooling2d_2 (MaxPooling2D)  (None, 13, 13, 256)  0           batch_normalization_6[0][0]      \n__________________________________________________________________________________________________\nconv2d_3 (Conv2D)               (None, 13, 13, 256)  33024       add_1[0][0]                      \n__________________________________________________________________________________________________\nadd_2 (Add)                     (None, 13, 13, 256)  0           max_pooling2d_2[0][0]            \n                                                                 conv2d_3[0][0]                   \n__________________________________________________________________________________________________\nactivation_7 (Activation)       (None, 13, 13, 256)  0           add_2[0][0]                      \n__________________________________________________________________________________________________\nconv2d_transpose (Conv2DTranspo (None, 13, 13, 256)  590080      activation_7[0][0]               \n__________________________________________________________________________________________________\nbatch_normalization_7 (BatchNor (None, 13, 13, 256)  1024        conv2d_transpose[0][0]           \n__________________________________________________________________________________________________\nactivation_8 (Activation)       (None, 13, 13, 256)  0           batch_normalization_7[0][0]      \n__________________________________________________________________________________________________\nconv2d_transpose_1 (Conv2DTrans (None, 13, 13, 256)  590080      activation_8[0][0]               \n__________________________________________________________________________________________________\nbatch_normalization_8 (BatchNor (None, 13, 13, 256)  1024        conv2d_transpose_1[0][0]         \n__________________________________________________________________________________________________\nup_sampling2d_1 (UpSampling2D)  (None, 26, 26, 256)  0           add_2[0][0]                      \n__________________________________________________________________________________________________\nup_sampling2d (UpSampling2D)    (None, 26, 26, 256)  0           batch_normalization_8[0][0]      \n__________________________________________________________________________________________________\nconv2d_4 (Conv2D)               (None, 26, 26, 256)  65792       up_sampling2d_1[0][0]            \n__________________________________________________________________________________________________\nadd_3 (Add)                     (None, 26, 26, 256)  0           up_sampling2d[0][0]              \n                                                                 conv2d_4[0][0]                   \n__________________________________________________________________________________________________\nactivation_9 (Activation)       (None, 26, 26, 256)  0           add_3[0][0]                      \n__________________________________________________________________________________________________\nconv2d_transpose_2 (Conv2DTrans (None, 26, 26, 128)  295040      activation_9[0][0]               \n__________________________________________________________________________________________________\nbatch_normalization_9 (BatchNor (None, 26, 26, 128)  512         conv2d_transpose_2[0][0]         \n__________________________________________________________________________________________________\nactivation_10 (Activation)      (None, 26, 26, 128)  0           batch_normalization_9[0][0]      \n__________________________________________________________________________________________________\nconv2d_transpose_3 (Conv2DTrans (None, 26, 26, 128)  147584      activation_10[0][0]              \n__________________________________________________________________________________________________\nbatch_normalization_10 (BatchNo (None, 26, 26, 128)  512         conv2d_transpose_3[0][0]         \n__________________________________________________________________________________________________\nup_sampling2d_3 (UpSampling2D)  (None, 52, 52, 256)  0           add_3[0][0]                      \n__________________________________________________________________________________________________\nup_sampling2d_2 (UpSampling2D)  (None, 52, 52, 128)  0           batch_normalization_10[0][0]     \n__________________________________________________________________________________________________\nconv2d_5 (Conv2D)               (None, 52, 52, 128)  32896       up_sampling2d_3[0][0]            \n__________________________________________________________________________________________________\nadd_4 (Add)                     (None, 52, 52, 128)  0           up_sampling2d_2[0][0]            \n                                                                 conv2d_5[0][0]                   \n__________________________________________________________________________________________________\nactivation_11 (Activation)      (None, 52, 52, 128)  0           add_4[0][0]                      \n__________________________________________________________________________________________________\nconv2d_transpose_4 (Conv2DTrans (None, 52, 52, 64)   73792       activation_11[0][0]              \n__________________________________________________________________________________________________\nbatch_normalization_11 (BatchNo (None, 52, 52, 64)   256         conv2d_transpose_4[0][0]         \n__________________________________________________________________________________________________\nactivation_12 (Activation)      (None, 52, 52, 64)   0           batch_normalization_11[0][0]     \n__________________________________________________________________________________________________\nconv2d_transpose_5 (Conv2DTrans (None, 52, 52, 64)   36928       activation_12[0][0]              \n__________________________________________________________________________________________________\nbatch_normalization_12 (BatchNo (None, 52, 52, 64)   256         conv2d_transpose_5[0][0]         \n__________________________________________________________________________________________________\nup_sampling2d_5 (UpSampling2D)  (None, 104, 104, 128 0           add_4[0][0]                      \n__________________________________________________________________________________________________\nup_sampling2d_4 (UpSampling2D)  (None, 104, 104, 64) 0           batch_normalization_12[0][0]     \n__________________________________________________________________________________________________\nconv2d_6 (Conv2D)               (None, 104, 104, 64) 8256        up_sampling2d_5[0][0]            \n__________________________________________________________________________________________________\nadd_5 (Add)                     (None, 104, 104, 64) 0           up_sampling2d_4[0][0]            \n                                                                 conv2d_6[0][0]                   \n__________________________________________________________________________________________________\nactivation_13 (Activation)      (None, 104, 104, 64) 0           add_5[0][0]                      \n__________________________________________________________________________________________________\nconv2d_transpose_6 (Conv2DTrans (None, 104, 104, 32) 18464       activation_13[0][0]              \n__________________________________________________________________________________________________\nbatch_normalization_13 (BatchNo (None, 104, 104, 32) 128         conv2d_transpose_6[0][0]         \n__________________________________________________________________________________________________\nactivation_14 (Activation)      (None, 104, 104, 32) 0           batch_normalization_13[0][0]     \n__________________________________________________________________________________________________\nconv2d_transpose_7 (Conv2DTrans (None, 104, 104, 32) 9248        activation_14[0][0]              \n__________________________________________________________________________________________________\nbatch_normalization_14 (BatchNo (None, 104, 104, 32) 128         conv2d_transpose_7[0][0]         \n__________________________________________________________________________________________________\nup_sampling2d_7 (UpSampling2D)  (None, 208, 208, 64) 0           add_5[0][0]                      \n__________________________________________________________________________________________________\nup_sampling2d_6 (UpSampling2D)  (None, 208, 208, 32) 0           batch_normalization_14[0][0]     \n__________________________________________________________________________________________________\nconv2d_7 (Conv2D)               (None, 208, 208, 32) 2080        up_sampling2d_7[0][0]            \n__________________________________________________________________________________________________\nadd_6 (Add)                     (None, 208, 208, 32) 0           up_sampling2d_6[0][0]            \n                                                                 conv2d_7[0][0]                   \n__________________________________________________________________________________________________\nconv2d_8 (Conv2D)               (None, 208, 208, 2)  578         add_6[0][0]                      \n==================================================================================================\nTotal params: 2,058,690\nTrainable params: 2,054,914\nNon-trainable params: 3,776\n__________________________________________________________________________________________________\n"
     ]
    }
   ],
   "source": [
    "model.summary()"
   ]
  },
  {
   "cell_type": "code",
   "execution_count": null,
   "metadata": {},
   "outputs": [],
   "source": [
    "model.compile(optimizer=\"rmsprop\", loss=\"sparse_categorical_crossentropy\")\n",
    "# Train the model, doing validation at the end of each epoch.\n",
    "epochs = 2\n",
    "model.fit(bone_data.data, epochs=epochs)"
   ]
  }
 ]
}