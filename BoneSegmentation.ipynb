{
  "nbformat": 4,
  "nbformat_minor": 0,
  "metadata": {
    "colab": {
      "name": "BoneSegmentation.ipynb",
      "provenance": [],
      "collapsed_sections": [],
      "mount_file_id": "1e5coD0vibZup-AQCYycYkLQYb0aa73xQ",
      "authorship_tag": "ABX9TyNbODhTBE6jtr+qfzt5vbLv",
      "include_colab_link": true
    },
    "kernelspec": {
      "name": "python3",
      "display_name": "Python 3.8.5 64-bit ('.venv': pipenv)"
    },
    "language_info": {
      "name": "python",
      "version": "3.8.5"
    },
    "interpreter": {
      "hash": "5a2fe2c165f5be54a00b373373fff34b3e324ef3054311fac64ab317a2f1c921"
    }
  },
  "cells": [
    {
      "cell_type": "markdown",
      "metadata": {
        "id": "view-in-github",
        "colab_type": "text"
      },
      "source": [
        "<a href=\"https://colab.research.google.com/github/TopalSolcan/BoneSegmentation_IMA/blob/main/BoneSegmentation.ipynb\" target=\"_parent\"><img src=\"https://colab.research.google.com/assets/colab-badge.svg\" alt=\"Open In Colab\"/></a>"
      ]
    },
    {
      "cell_type": "code",
      "execution_count": null,
      "metadata": {},
      "outputs": [],
      "source": [
        "from google.colab import drive\n",
        "drive.mount('/content/drive')"
      ]
    },
    {
      "cell_type": "code",
      "execution_count": null,
      "metadata": {},
      "outputs": [],
      "source": [
        "# Clone the entire repo.\n",
        "!git clone -l -s https://github.com/TopalSolcan/BoneSegmentation_IMA.git cloned-repo"
      ]
    },
    {
      "cell_type": "code",
      "execution_count": null,
      "metadata": {},
      "outputs": [],
      "source": [
        "%cd cloned-repo\n",
        "!ls"
      ]
    },
    {
      "cell_type": "code",
      "execution_count": null,
      "metadata": {},
      "outputs": [],
      "source": [
        "from bone_data import BoneData\n",
        "bone_data = BoneData(work_area=BoneData.COLAB)"
      ]
    },
    {
      "cell_type": "code",
      "execution_count": null,
      "metadata": {},
      "outputs": [],
      "source": [
        "from bone_dataset import BoneDataset\n",
        "img_size = (200, 200)\n",
        "# num_classes = 2\n",
        "# batch_size = 8\n",
        "# epochs = 2 # to test segmentation immediatly\n",
        "all_gen = BoneDataset(batch_size=1,\n",
        "                      img_size=img_size,\n",
        "                      input_img_paths=bone_data.all_data_files,\n",
        "                      target_img_paths=bone_data.all_label_files)"
      ]
    },
    {
      "cell_type": "code",
      "execution_count": null,
      "metadata": {},
      "outputs": [],
      "source": [
        "from segmentation import kfold_xnet_test\n",
        "metric_names_list, scores_list = kfold_xnet_test(img_size=img_size, \n",
        "                                                    all_gen=all_gen,\n",
        "                                                    bone_data=bone_data)"
      ]
    }
  ]
}