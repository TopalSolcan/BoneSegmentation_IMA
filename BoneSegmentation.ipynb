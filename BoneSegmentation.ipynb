{
  "nbformat": 4,
  "nbformat_minor": 0,
  "metadata": {
    "colab": {
      "name": "BoneSegmentation.ipynb",
      "provenance": [],
      "collapsed_sections": [],
      "mount_file_id": "1e5coD0vibZup-AQCYycYkLQYb0aa73xQ",
      "authorship_tag": "ABX9TyNbODhTBE6jtr+qfzt5vbLv",
      "include_colab_link": true
    },
    "kernelspec": {
      "name": "python3",
      "display_name": "Python 3"
    },
    "language_info": {
      "name": "python"
    }
  },
  "cells": [
    {
      "cell_type": "markdown",
      "metadata": {
        "id": "view-in-github",
        "colab_type": "text"
      },
      "source": [
        "<a href=\"https://colab.research.google.com/github/TopalSolcan/BoneSegmentation_IMA/blob/main/BoneSegmentation.ipynb\" target=\"_parent\"><img src=\"https://colab.research.google.com/assets/colab-badge.svg\" alt=\"Open In Colab\"/></a>"
      ]
    },
    {
      "cell_type": "code",
      "metadata": {
        "id": "BYllXBug-twb",
        "colab": {
          "base_uri": "https://localhost:8080/"
        },
        "outputId": "dd205c65-7eda-4034-d778-ac40993c4fa3"
      },
      "source": [
        "!ls"
      ],
      "execution_count": 47,
      "outputs": [
        {
          "output_type": "stream",
          "text": [
            "drive  sample_data\n"
          ],
          "name": "stdout"
        }
      ]
    },
    {
      "cell_type": "code",
      "metadata": {
        "id": "bWch-c7BAVCz",
        "colab": {
          "base_uri": "https://localhost:8080/"
        },
        "outputId": "9645da9e-a4c6-4ab3-d21c-497033ace0fb"
      },
      "source": [
        "import os\n",
        "import numpy as np\n",
        "import BoneSegmentation_IMA.bone_data"
      ],
      "execution_count": 57,
      "outputs": [
        {
          "output_type": "stream",
          "text": [
            "bone_data\n"
          ],
          "name": "stdout"
        }
      ]
    },
    {
      "cell_type": "code",
      "metadata": {
        "colab": {
          "base_uri": "https://localhost:8080/"
        },
        "id": "isV-0h48N2vy",
        "outputId": "2dea357a-dfc3-4d36-aa7b-1d720e220dab"
      },
      "source": [
        "!git clone https://github.com/TopalSolcan/BoneSegmentation_IMA.git"
      ],
      "execution_count": 53,
      "outputs": [
        {
          "output_type": "stream",
          "text": [
            "fatal: destination path 'BoneSegmentation_IMA' already exists and is not an empty directory.\n"
          ],
          "name": "stdout"
        }
      ]
    },
    {
      "cell_type": "code",
      "metadata": {
        "id": "dSx0q52VV_JL"
      },
      "source": [
        ""
      ],
      "execution_count": null,
      "outputs": []
    },
    {
      "cell_type": "code",
      "metadata": {
        "id": "a37ssvMQWHsk"
      },
      "source": [
        ""
      ],
      "execution_count": null,
      "outputs": []
    },
    {
      "cell_type": "code",
      "metadata": {
        "colab": {
          "base_uri": "https://localhost:8080/"
        },
        "id": "WaxJxOVPWPZp",
        "outputId": "f4b4a8a0-9729-4bfe-d46b-ec0d73822b00"
      },
      "source": [
        "root_path = \"/content/drive/MyDrive/New_masks\"\n",
        "sub_folders = os.listdir(root_path)\n",
        "all_files = {}\n",
        "for sub_folder in sub_folders:\n",
        "  sub_folderpath = \"{}/{}\".format(root_path, sub_folder)\n",
        "  print(sub_folderpath)\n",
        "  class_folders = os.listdir(sub_folderpath)\n",
        "  if sub_folder not in all_files:\n",
        "      all_files[sub_folder] = {}\n",
        "\n",
        "  for class_folder in class_folders:\n",
        "    if class_folder not in all_files[sub_folder]:\n",
        "      all_files[sub_folder][class_folder] = []\n",
        "    class_folderpath = \"{}/{}\".format(sub_folderpath, class_folder)\n",
        "    file_names = os.listdir(class_folderpath)\n",
        "    \n",
        "    for file_name in file_names:\n",
        "      filepath = \"{}/{}\".format(class_folderpath, file_name)\n",
        "      all_files[sub_folder][class_folder].append(filepath)"
      ],
      "execution_count": 3,
      "outputs": [
        {
          "output_type": "stream",
          "text": [
            "/content/drive/MyDrive/New_masks/6\n",
            "/content/drive/MyDrive/New_masks/9\n",
            "/content/drive/MyDrive/New_masks/10\n",
            "/content/drive/MyDrive/New_masks/7\n",
            "/content/drive/MyDrive/New_masks/8\n",
            "/content/drive/MyDrive/New_masks/12\n",
            "/content/drive/MyDrive/New_masks/13\n",
            "/content/drive/MyDrive/New_masks/11\n",
            "/content/drive/MyDrive/New_masks/14\n",
            "/content/drive/MyDrive/New_masks/15\n",
            "/content/drive/MyDrive/New_masks/21\n",
            "/content/drive/MyDrive/New_masks/17\n",
            "/content/drive/MyDrive/New_masks/18\n",
            "/content/drive/MyDrive/New_masks/20\n",
            "/content/drive/MyDrive/New_masks/16\n",
            "/content/drive/MyDrive/New_masks/22\n",
            "/content/drive/MyDrive/New_masks/19\n",
            "/content/drive/MyDrive/New_masks/23\n",
            "/content/drive/MyDrive/New_masks/24\n",
            "/content/drive/MyDrive/New_masks/25\n",
            "/content/drive/MyDrive/New_masks/27\n",
            "/content/drive/MyDrive/New_masks/28\n",
            "/content/drive/MyDrive/New_masks/29\n",
            "/content/drive/MyDrive/New_masks/31\n",
            "/content/drive/MyDrive/New_masks/26\n",
            "/content/drive/MyDrive/New_masks/30\n",
            "/content/drive/MyDrive/New_masks/32\n",
            "/content/drive/MyDrive/New_masks/35\n",
            "/content/drive/MyDrive/New_masks/34\n",
            "/content/drive/MyDrive/New_masks/33\n",
            "/content/drive/MyDrive/New_masks/36\n",
            "/content/drive/MyDrive/New_masks/38\n",
            "/content/drive/MyDrive/New_masks/37\n",
            "/content/drive/MyDrive/New_masks/40\n",
            "/content/drive/MyDrive/New_masks/39\n",
            "/content/drive/MyDrive/New_masks/41\n",
            "/content/drive/MyDrive/New_masks/45\n",
            "/content/drive/MyDrive/New_masks/42\n",
            "/content/drive/MyDrive/New_masks/43\n",
            "/content/drive/MyDrive/New_masks/46\n",
            "/content/drive/MyDrive/New_masks/44\n",
            "/content/drive/MyDrive/New_masks/47\n",
            "/content/drive/MyDrive/New_masks/50\n",
            "/content/drive/MyDrive/New_masks/48\n",
            "/content/drive/MyDrive/New_masks/49\n",
            "/content/drive/MyDrive/New_masks/51\n",
            "/content/drive/MyDrive/New_masks/52\n",
            "/content/drive/MyDrive/New_masks/53\n",
            "/content/drive/MyDrive/New_masks/59\n",
            "/content/drive/MyDrive/New_masks/56\n",
            "/content/drive/MyDrive/New_masks/55\n",
            "/content/drive/MyDrive/New_masks/58\n",
            "/content/drive/MyDrive/New_masks/54\n",
            "/content/drive/MyDrive/New_masks/57\n",
            "/content/drive/MyDrive/New_masks/62\n",
            "/content/drive/MyDrive/New_masks/61\n",
            "/content/drive/MyDrive/New_masks/60\n",
            "/content/drive/MyDrive/New_masks/64\n",
            "/content/drive/MyDrive/New_masks/63\n",
            "/content/drive/MyDrive/New_masks/67\n",
            "/content/drive/MyDrive/New_masks/66\n",
            "/content/drive/MyDrive/New_masks/65\n",
            "/content/drive/MyDrive/New_masks/70\n",
            "/content/drive/MyDrive/New_masks/69\n",
            "/content/drive/MyDrive/New_masks/68\n",
            "/content/drive/MyDrive/New_masks/71\n",
            "/content/drive/MyDrive/New_masks/72\n",
            "/content/drive/MyDrive/New_masks/75\n",
            "/content/drive/MyDrive/New_masks/73\n",
            "/content/drive/MyDrive/New_masks/74\n",
            "/content/drive/MyDrive/New_masks/78\n",
            "/content/drive/MyDrive/New_masks/77\n",
            "/content/drive/MyDrive/New_masks/76\n",
            "/content/drive/MyDrive/New_masks/81\n",
            "/content/drive/MyDrive/New_masks/79\n",
            "/content/drive/MyDrive/New_masks/80\n",
            "/content/drive/MyDrive/New_masks/84\n",
            "/content/drive/MyDrive/New_masks/82\n",
            "/content/drive/MyDrive/New_masks/85\n",
            "/content/drive/MyDrive/New_masks/83\n",
            "/content/drive/MyDrive/New_masks/86\n",
            "/content/drive/MyDrive/New_masks/88\n",
            "/content/drive/MyDrive/New_masks/87\n",
            "/content/drive/MyDrive/New_masks/90\n",
            "/content/drive/MyDrive/New_masks/89\n",
            "/content/drive/MyDrive/New_masks/92\n",
            "/content/drive/MyDrive/New_masks/93\n",
            "/content/drive/MyDrive/New_masks/94\n",
            "/content/drive/MyDrive/New_masks/91\n",
            "/content/drive/MyDrive/New_masks/95\n",
            "/content/drive/MyDrive/New_masks/97\n",
            "/content/drive/MyDrive/New_masks/96\n",
            "/content/drive/MyDrive/New_masks/101\n",
            "/content/drive/MyDrive/New_masks/103\n",
            "/content/drive/MyDrive/New_masks/100\n",
            "/content/drive/MyDrive/New_masks/102\n",
            "/content/drive/MyDrive/New_masks/98\n",
            "/content/drive/MyDrive/New_masks/99\n",
            "/content/drive/MyDrive/New_masks/105\n",
            "/content/drive/MyDrive/New_masks/104\n",
            "/content/drive/MyDrive/New_masks/106\n",
            "/content/drive/MyDrive/New_masks/108\n",
            "/content/drive/MyDrive/New_masks/107\n",
            "/content/drive/MyDrive/New_masks/109\n",
            "/content/drive/MyDrive/New_masks/110\n",
            "/content/drive/MyDrive/New_masks/111\n",
            "/content/drive/MyDrive/New_masks/113\n",
            "/content/drive/MyDrive/New_masks/117\n",
            "/content/drive/MyDrive/New_masks/112\n",
            "/content/drive/MyDrive/New_masks/114\n",
            "/content/drive/MyDrive/New_masks/115\n",
            "/content/drive/MyDrive/New_masks/116\n",
            "/content/drive/MyDrive/New_masks/118\n",
            "/content/drive/MyDrive/New_masks/120\n",
            "/content/drive/MyDrive/New_masks/119\n",
            "/content/drive/MyDrive/New_masks/121\n",
            "/content/drive/MyDrive/New_masks/122\n",
            "/content/drive/MyDrive/New_masks/123\n",
            "/content/drive/MyDrive/New_masks/125\n",
            "/content/drive/MyDrive/New_masks/124\n",
            "/content/drive/MyDrive/New_masks/126\n",
            "/content/drive/MyDrive/New_masks/127\n",
            "/content/drive/MyDrive/New_masks/129\n",
            "/content/drive/MyDrive/New_masks/128\n",
            "/content/drive/MyDrive/New_masks/130\n",
            "/content/drive/MyDrive/New_masks/139\n",
            "/content/drive/MyDrive/New_masks/138\n",
            "/content/drive/MyDrive/New_masks/131\n",
            "/content/drive/MyDrive/New_masks/137\n",
            "/content/drive/MyDrive/New_masks/132\n",
            "/content/drive/MyDrive/New_masks/136\n",
            "/content/drive/MyDrive/New_masks/133\n",
            "/content/drive/MyDrive/New_masks/135\n",
            "/content/drive/MyDrive/New_masks/134\n",
            "/content/drive/MyDrive/New_masks/141\n",
            "/content/drive/MyDrive/New_masks/147\n",
            "/content/drive/MyDrive/New_masks/142\n",
            "/content/drive/MyDrive/New_masks/143\n",
            "/content/drive/MyDrive/New_masks/151\n",
            "/content/drive/MyDrive/New_masks/148\n",
            "/content/drive/MyDrive/New_masks/140\n",
            "/content/drive/MyDrive/New_masks/144\n",
            "/content/drive/MyDrive/New_masks/146\n",
            "/content/drive/MyDrive/New_masks/145\n",
            "/content/drive/MyDrive/New_masks/150\n",
            "/content/drive/MyDrive/New_masks/158\n",
            "/content/drive/MyDrive/New_masks/160\n",
            "/content/drive/MyDrive/New_masks/154\n",
            "/content/drive/MyDrive/New_masks/156\n",
            "/content/drive/MyDrive/New_masks/159\n",
            "/content/drive/MyDrive/New_masks/152\n",
            "/content/drive/MyDrive/New_masks/153\n",
            "/content/drive/MyDrive/New_masks/155\n",
            "/content/drive/MyDrive/New_masks/149\n",
            "/content/drive/MyDrive/New_masks/157\n",
            "/content/drive/MyDrive/New_masks/2\n",
            "/content/drive/MyDrive/New_masks/3\n",
            "/content/drive/MyDrive/New_masks/1\n",
            "/content/drive/MyDrive/New_masks/5\n",
            "/content/drive/MyDrive/New_masks/4\n",
            "/content/drive/MyDrive/New_masks/168\n",
            "/content/drive/MyDrive/New_masks/166\n",
            "/content/drive/MyDrive/New_masks/169\n",
            "/content/drive/MyDrive/New_masks/165\n",
            "/content/drive/MyDrive/New_masks/167\n",
            "/content/drive/MyDrive/New_masks/171\n",
            "/content/drive/MyDrive/New_masks/170\n",
            "/content/drive/MyDrive/New_masks/173\n",
            "/content/drive/MyDrive/New_masks/175\n",
            "/content/drive/MyDrive/New_masks/182\n",
            "/content/drive/MyDrive/New_masks/177\n",
            "/content/drive/MyDrive/New_masks/179\n",
            "/content/drive/MyDrive/New_masks/178\n",
            "/content/drive/MyDrive/New_masks/176\n",
            "/content/drive/MyDrive/New_masks/172\n",
            "/content/drive/MyDrive/New_masks/174\n",
            "/content/drive/MyDrive/New_masks/183\n",
            "/content/drive/MyDrive/New_masks/180\n",
            "/content/drive/MyDrive/New_masks/181\n",
            "/content/drive/MyDrive/New_masks/184\n",
            "/content/drive/MyDrive/New_masks/185\n",
            "/content/drive/MyDrive/New_masks/187\n",
            "/content/drive/MyDrive/New_masks/186\n",
            "/content/drive/MyDrive/New_masks/190\n",
            "/content/drive/MyDrive/New_masks/188\n",
            "/content/drive/MyDrive/New_masks/189\n",
            "/content/drive/MyDrive/New_masks/191\n",
            "/content/drive/MyDrive/New_masks/192\n",
            "/content/drive/MyDrive/New_masks/193\n",
            "/content/drive/MyDrive/New_masks/194\n",
            "/content/drive/MyDrive/New_masks/195\n",
            "/content/drive/MyDrive/New_masks/196\n",
            "/content/drive/MyDrive/New_masks/197\n",
            "/content/drive/MyDrive/New_masks/204\n",
            "/content/drive/MyDrive/New_masks/201\n",
            "/content/drive/MyDrive/New_masks/203\n",
            "/content/drive/MyDrive/New_masks/198\n",
            "/content/drive/MyDrive/New_masks/200\n",
            "/content/drive/MyDrive/New_masks/199\n",
            "/content/drive/MyDrive/New_masks/202\n",
            "/content/drive/MyDrive/New_masks/207\n",
            "/content/drive/MyDrive/New_masks/206\n",
            "/content/drive/MyDrive/New_masks/208\n",
            "/content/drive/MyDrive/New_masks/209\n",
            "/content/drive/MyDrive/New_masks/205\n",
            "/content/drive/MyDrive/New_masks/210\n",
            "/content/drive/MyDrive/New_masks/212\n",
            "/content/drive/MyDrive/New_masks/211\n",
            "/content/drive/MyDrive/New_masks/213\n",
            "/content/drive/MyDrive/New_masks/214\n",
            "/content/drive/MyDrive/New_masks/216\n",
            "/content/drive/MyDrive/New_masks/215\n",
            "/content/drive/MyDrive/New_masks/217\n",
            "/content/drive/MyDrive/New_masks/219\n",
            "/content/drive/MyDrive/New_masks/218\n",
            "/content/drive/MyDrive/New_masks/221\n",
            "/content/drive/MyDrive/New_masks/220\n",
            "/content/drive/MyDrive/New_masks/223\n",
            "/content/drive/MyDrive/New_masks/222\n",
            "/content/drive/MyDrive/New_masks/224\n",
            "/content/drive/MyDrive/New_masks/231\n",
            "/content/drive/MyDrive/New_masks/228\n",
            "/content/drive/MyDrive/New_masks/225\n",
            "/content/drive/MyDrive/New_masks/230\n",
            "/content/drive/MyDrive/New_masks/226\n",
            "/content/drive/MyDrive/New_masks/227\n",
            "/content/drive/MyDrive/New_masks/229\n",
            "/content/drive/MyDrive/New_masks/232\n",
            "/content/drive/MyDrive/New_masks/233\n",
            "/content/drive/MyDrive/New_masks/234\n",
            "/content/drive/MyDrive/New_masks/237\n",
            "/content/drive/MyDrive/New_masks/235\n",
            "/content/drive/MyDrive/New_masks/236\n",
            "/content/drive/MyDrive/New_masks/239\n",
            "/content/drive/MyDrive/New_masks/240\n",
            "/content/drive/MyDrive/New_masks/238\n",
            "/content/drive/MyDrive/New_masks/241\n",
            "/content/drive/MyDrive/New_masks/242\n",
            "/content/drive/MyDrive/New_masks/243\n",
            "/content/drive/MyDrive/New_masks/244\n",
            "/content/drive/MyDrive/New_masks/248\n",
            "/content/drive/MyDrive/New_masks/247\n",
            "/content/drive/MyDrive/New_masks/245\n",
            "/content/drive/MyDrive/New_masks/250\n",
            "/content/drive/MyDrive/New_masks/249\n",
            "/content/drive/MyDrive/New_masks/251\n",
            "/content/drive/MyDrive/New_masks/246\n",
            "/content/drive/MyDrive/New_masks/253\n",
            "/content/drive/MyDrive/New_masks/252\n",
            "/content/drive/MyDrive/New_masks/254\n",
            "/content/drive/MyDrive/New_masks/260\n",
            "/content/drive/MyDrive/New_masks/257\n",
            "/content/drive/MyDrive/New_masks/255\n",
            "/content/drive/MyDrive/New_masks/258\n",
            "/content/drive/MyDrive/New_masks/259\n",
            "/content/drive/MyDrive/New_masks/261\n",
            "/content/drive/MyDrive/New_masks/256\n",
            "/content/drive/MyDrive/New_masks/262\n",
            "/content/drive/MyDrive/New_masks/264\n",
            "/content/drive/MyDrive/New_masks/263\n",
            "/content/drive/MyDrive/New_masks/265\n",
            "/content/drive/MyDrive/New_masks/266\n",
            "/content/drive/MyDrive/New_masks/271\n",
            "/content/drive/MyDrive/New_masks/267\n",
            "/content/drive/MyDrive/New_masks/268\n",
            "/content/drive/MyDrive/New_masks/272\n",
            "/content/drive/MyDrive/New_masks/269\n",
            "/content/drive/MyDrive/New_masks/274\n",
            "/content/drive/MyDrive/New_masks/276\n",
            "/content/drive/MyDrive/New_masks/275\n",
            "/content/drive/MyDrive/New_masks/277\n",
            "/content/drive/MyDrive/New_masks/273\n",
            "/content/drive/MyDrive/New_masks/270\n",
            "/content/drive/MyDrive/New_masks/278\n",
            "/content/drive/MyDrive/New_masks/280\n",
            "/content/drive/MyDrive/New_masks/279\n",
            "/content/drive/MyDrive/New_masks/284\n",
            "/content/drive/MyDrive/New_masks/287\n",
            "/content/drive/MyDrive/New_masks/285\n",
            "/content/drive/MyDrive/New_masks/282\n",
            "/content/drive/MyDrive/New_masks/286\n",
            "/content/drive/MyDrive/New_masks/283\n",
            "/content/drive/MyDrive/New_masks/281\n",
            "/content/drive/MyDrive/New_masks/289\n",
            "/content/drive/MyDrive/New_masks/288\n",
            "/content/drive/MyDrive/New_masks/290\n",
            "/content/drive/MyDrive/New_masks/291\n",
            "/content/drive/MyDrive/New_masks/293\n",
            "/content/drive/MyDrive/New_masks/292\n",
            "/content/drive/MyDrive/New_masks/294\n",
            "/content/drive/MyDrive/New_masks/297\n",
            "/content/drive/MyDrive/New_masks/301\n",
            "/content/drive/MyDrive/New_masks/298\n",
            "/content/drive/MyDrive/New_masks/295\n",
            "/content/drive/MyDrive/New_masks/300\n",
            "/content/drive/MyDrive/New_masks/299\n",
            "/content/drive/MyDrive/New_masks/296\n",
            "/content/drive/MyDrive/New_masks/302\n",
            "/content/drive/MyDrive/New_masks/303\n",
            "/content/drive/MyDrive/New_masks/304\n",
            "/content/drive/MyDrive/New_masks/305\n",
            "/content/drive/MyDrive/New_masks/163\n",
            "/content/drive/MyDrive/New_masks/161\n",
            "/content/drive/MyDrive/New_masks/162\n",
            "/content/drive/MyDrive/New_masks/164\n",
            "/content/drive/MyDrive/New_masks/306\n",
            "/content/drive/MyDrive/New_masks/312\n",
            "/content/drive/MyDrive/New_masks/313\n",
            "/content/drive/MyDrive/New_masks/311\n",
            "/content/drive/MyDrive/New_masks/314\n",
            "/content/drive/MyDrive/New_masks/315\n",
            "/content/drive/MyDrive/New_masks/316\n",
            "/content/drive/MyDrive/New_masks/318\n",
            "/content/drive/MyDrive/New_masks/317\n",
            "/content/drive/MyDrive/New_masks/319\n",
            "/content/drive/MyDrive/New_masks/320\n",
            "/content/drive/MyDrive/New_masks/321\n",
            "/content/drive/MyDrive/New_masks/323\n",
            "/content/drive/MyDrive/New_masks/322\n",
            "/content/drive/MyDrive/New_masks/325\n",
            "/content/drive/MyDrive/New_masks/324\n",
            "/content/drive/MyDrive/New_masks/326\n",
            "/content/drive/MyDrive/New_masks/327\n",
            "/content/drive/MyDrive/New_masks/331\n",
            "/content/drive/MyDrive/New_masks/329\n",
            "/content/drive/MyDrive/New_masks/328\n",
            "/content/drive/MyDrive/New_masks/330\n",
            "/content/drive/MyDrive/New_masks/332\n",
            "/content/drive/MyDrive/New_masks/333\n",
            "/content/drive/MyDrive/New_masks/334\n",
            "/content/drive/MyDrive/New_masks/335\n",
            "/content/drive/MyDrive/New_masks/336\n",
            "/content/drive/MyDrive/New_masks/338\n",
            "/content/drive/MyDrive/New_masks/337\n",
            "/content/drive/MyDrive/New_masks/339\n",
            "/content/drive/MyDrive/New_masks/340\n",
            "/content/drive/MyDrive/New_masks/344\n",
            "/content/drive/MyDrive/New_masks/341\n",
            "/content/drive/MyDrive/New_masks/343\n",
            "/content/drive/MyDrive/New_masks/342\n",
            "/content/drive/MyDrive/New_masks/345\n",
            "/content/drive/MyDrive/New_masks/346\n",
            "/content/drive/MyDrive/New_masks/348\n",
            "/content/drive/MyDrive/New_masks/349\n",
            "/content/drive/MyDrive/New_masks/347\n",
            "/content/drive/MyDrive/New_masks/350\n",
            "/content/drive/MyDrive/New_masks/351\n",
            "/content/drive/MyDrive/New_masks/352\n",
            "/content/drive/MyDrive/New_masks/356\n",
            "/content/drive/MyDrive/New_masks/355\n",
            "/content/drive/MyDrive/New_masks/353\n",
            "/content/drive/MyDrive/New_masks/354\n",
            "/content/drive/MyDrive/New_masks/357\n",
            "/content/drive/MyDrive/New_masks/358\n",
            "/content/drive/MyDrive/New_masks/360\n",
            "/content/drive/MyDrive/New_masks/359\n",
            "/content/drive/MyDrive/New_masks/362\n",
            "/content/drive/MyDrive/New_masks/361\n",
            "/content/drive/MyDrive/New_masks/366\n",
            "/content/drive/MyDrive/New_masks/365\n",
            "/content/drive/MyDrive/New_masks/363\n",
            "/content/drive/MyDrive/New_masks/364\n",
            "/content/drive/MyDrive/New_masks/367\n",
            "/content/drive/MyDrive/New_masks/368\n",
            "/content/drive/MyDrive/New_masks/369\n",
            "/content/drive/MyDrive/New_masks/370\n",
            "/content/drive/MyDrive/New_masks/372\n",
            "/content/drive/MyDrive/New_masks/371\n",
            "/content/drive/MyDrive/New_masks/374\n",
            "/content/drive/MyDrive/New_masks/373\n",
            "/content/drive/MyDrive/New_masks/375\n",
            "/content/drive/MyDrive/New_masks/376\n",
            "/content/drive/MyDrive/New_masks/377\n",
            "/content/drive/MyDrive/New_masks/378\n",
            "/content/drive/MyDrive/New_masks/379\n",
            "/content/drive/MyDrive/New_masks/380\n",
            "/content/drive/MyDrive/New_masks/382\n",
            "/content/drive/MyDrive/New_masks/381\n",
            "/content/drive/MyDrive/New_masks/384\n",
            "/content/drive/MyDrive/New_masks/383\n",
            "/content/drive/MyDrive/New_masks/385\n",
            "/content/drive/MyDrive/New_masks/386\n",
            "/content/drive/MyDrive/New_masks/387\n",
            "/content/drive/MyDrive/New_masks/388\n",
            "/content/drive/MyDrive/New_masks/389\n",
            "/content/drive/MyDrive/New_masks/390\n",
            "/content/drive/MyDrive/New_masks/392\n",
            "/content/drive/MyDrive/New_masks/391\n",
            "/content/drive/MyDrive/New_masks/394\n",
            "/content/drive/MyDrive/New_masks/395\n",
            "/content/drive/MyDrive/New_masks/393\n",
            "/content/drive/MyDrive/New_masks/398\n",
            "/content/drive/MyDrive/New_masks/397\n",
            "/content/drive/MyDrive/New_masks/396\n",
            "/content/drive/MyDrive/New_masks/400\n",
            "/content/drive/MyDrive/New_masks/399\n",
            "/content/drive/MyDrive/New_masks/401\n",
            "/content/drive/MyDrive/New_masks/402\n",
            "/content/drive/MyDrive/New_masks/405\n",
            "/content/drive/MyDrive/New_masks/404\n",
            "/content/drive/MyDrive/New_masks/407\n",
            "/content/drive/MyDrive/New_masks/406\n",
            "/content/drive/MyDrive/New_masks/408\n",
            "/content/drive/MyDrive/New_masks/409\n",
            "/content/drive/MyDrive/New_masks/411\n",
            "/content/drive/MyDrive/New_masks/410\n",
            "/content/drive/MyDrive/New_masks/412\n",
            "/content/drive/MyDrive/New_masks/413\n",
            "/content/drive/MyDrive/New_masks/414\n",
            "/content/drive/MyDrive/New_masks/415\n",
            "/content/drive/MyDrive/New_masks/417\n",
            "/content/drive/MyDrive/New_masks/416\n",
            "/content/drive/MyDrive/New_masks/418\n",
            "/content/drive/MyDrive/New_masks/403\n",
            "/content/drive/MyDrive/New_masks/419\n",
            "/content/drive/MyDrive/New_masks/420\n",
            "/content/drive/MyDrive/New_masks/422\n",
            "/content/drive/MyDrive/New_masks/421\n",
            "/content/drive/MyDrive/New_masks/423\n",
            "/content/drive/MyDrive/New_masks/424\n",
            "/content/drive/MyDrive/New_masks/426\n",
            "/content/drive/MyDrive/New_masks/427\n",
            "/content/drive/MyDrive/New_masks/425\n",
            "/content/drive/MyDrive/New_masks/428\n",
            "/content/drive/MyDrive/New_masks/429\n",
            "/content/drive/MyDrive/New_masks/430\n",
            "/content/drive/MyDrive/New_masks/432\n",
            "/content/drive/MyDrive/New_masks/433\n",
            "/content/drive/MyDrive/New_masks/431\n",
            "/content/drive/MyDrive/New_masks/434\n",
            "/content/drive/MyDrive/New_masks/436\n",
            "/content/drive/MyDrive/New_masks/435\n",
            "/content/drive/MyDrive/New_masks/437\n",
            "/content/drive/MyDrive/New_masks/438\n",
            "/content/drive/MyDrive/New_masks/439\n",
            "/content/drive/MyDrive/New_masks/440\n",
            "/content/drive/MyDrive/New_masks/442\n",
            "/content/drive/MyDrive/New_masks/441\n",
            "/content/drive/MyDrive/New_masks/444\n",
            "/content/drive/MyDrive/New_masks/445\n",
            "/content/drive/MyDrive/New_masks/446\n",
            "/content/drive/MyDrive/New_masks/443\n",
            "/content/drive/MyDrive/New_masks/447\n",
            "/content/drive/MyDrive/New_masks/448\n",
            "/content/drive/MyDrive/New_masks/450\n",
            "/content/drive/MyDrive/New_masks/449\n",
            "/content/drive/MyDrive/New_masks/451\n",
            "/content/drive/MyDrive/New_masks/452\n",
            "/content/drive/MyDrive/New_masks/453\n",
            "/content/drive/MyDrive/New_masks/457\n",
            "/content/drive/MyDrive/New_masks/454\n",
            "/content/drive/MyDrive/New_masks/455\n",
            "/content/drive/MyDrive/New_masks/456\n",
            "/content/drive/MyDrive/New_masks/458\n",
            "/content/drive/MyDrive/New_masks/459\n",
            "/content/drive/MyDrive/New_masks/460\n",
            "/content/drive/MyDrive/New_masks/461\n",
            "/content/drive/MyDrive/New_masks/462\n",
            "/content/drive/MyDrive/New_masks/465\n",
            "/content/drive/MyDrive/New_masks/463\n",
            "/content/drive/MyDrive/New_masks/466\n",
            "/content/drive/MyDrive/New_masks/464\n",
            "/content/drive/MyDrive/New_masks/467\n",
            "/content/drive/MyDrive/New_masks/468\n",
            "/content/drive/MyDrive/New_masks/469\n",
            "/content/drive/MyDrive/New_masks/471\n",
            "/content/drive/MyDrive/New_masks/472\n",
            "/content/drive/MyDrive/New_masks/470\n",
            "/content/drive/MyDrive/New_masks/307\n",
            "/content/drive/MyDrive/New_masks/310\n",
            "/content/drive/MyDrive/New_masks/309\n",
            "/content/drive/MyDrive/New_masks/308\n",
            "/content/drive/MyDrive/New_masks/495\n",
            "/content/drive/MyDrive/New_masks/496\n",
            "/content/drive/MyDrive/New_masks/497\n",
            "/content/drive/MyDrive/New_masks/500\n",
            "/content/drive/MyDrive/New_masks/499\n",
            "/content/drive/MyDrive/New_masks/498\n",
            "/content/drive/MyDrive/New_masks/473\n",
            "/content/drive/MyDrive/New_masks/474\n",
            "/content/drive/MyDrive/New_masks/476\n",
            "/content/drive/MyDrive/New_masks/475\n",
            "/content/drive/MyDrive/New_masks/477\n",
            "/content/drive/MyDrive/New_masks/478\n",
            "/content/drive/MyDrive/New_masks/479\n",
            "/content/drive/MyDrive/New_masks/480\n",
            "/content/drive/MyDrive/New_masks/481\n",
            "/content/drive/MyDrive/New_masks/482\n",
            "/content/drive/MyDrive/New_masks/483\n",
            "/content/drive/MyDrive/New_masks/484\n",
            "/content/drive/MyDrive/New_masks/485\n",
            "/content/drive/MyDrive/New_masks/486\n",
            "/content/drive/MyDrive/New_masks/491\n",
            "/content/drive/MyDrive/New_masks/488\n",
            "/content/drive/MyDrive/New_masks/489\n",
            "/content/drive/MyDrive/New_masks/490\n",
            "/content/drive/MyDrive/New_masks/487\n",
            "/content/drive/MyDrive/New_masks/492\n",
            "/content/drive/MyDrive/New_masks/494\n",
            "/content/drive/MyDrive/New_masks/493\n"
          ],
          "name": "stdout"
        }
      ]
    },
    {
      "cell_type": "code",
      "metadata": {
        "colab": {
          "base_uri": "https://localhost:8080/"
        },
        "id": "e1ZwlYkUlMhK",
        "outputId": "b63a65f4-4d6b-4f03-a991-7ce672906536"
      },
      "source": [
        "image_label_data = []\n",
        "# for image_folder in all_files[\"1\"]:\n",
        "image_folder = \"1\"\n",
        "for  class_folder in all_files[image_folder]:\n",
        "  for file_path in all_files[image_folder][class_folder]:\n",
        "    print(all_files[image_folder][class_folder])\n",
        "    print(file_path)\n",
        "    image_label_data.append(np.load(file_path))"
      ],
      "execution_count": 19,
      "outputs": [
        {
          "output_type": "stream",
          "text": [
            "['/content/drive/MyDrive/New_masks/1/pelvis right/pelvis right1_mask.npy']\n",
            "/content/drive/MyDrive/New_masks/1/pelvis right/pelvis right1_mask.npy\n",
            "['/content/drive/MyDrive/New_masks/1/pelvis left/pelvis left1_mask.npy']\n",
            "/content/drive/MyDrive/New_masks/1/pelvis left/pelvis left1_mask.npy\n",
            "['/content/drive/MyDrive/New_masks/1/femur left/femur left1_mask.npy']\n",
            "/content/drive/MyDrive/New_masks/1/femur left/femur left1_mask.npy\n"
          ],
          "name": "stdout"
        }
      ]
    },
    {
      "cell_type": "code",
      "metadata": {
        "colab": {
          "base_uri": "https://localhost:8080/"
        },
        "id": "vZMAxTO-npBm",
        "outputId": "336e54ee-f019-4edd-86ce-60ced2348560"
      },
      "source": [
        "all_files[image_folder]"
      ],
      "execution_count": 15,
      "outputs": [
        {
          "output_type": "execute_result",
          "data": {
            "text/plain": [
              "{'femur left': ['/content/drive/MyDrive/New_masks/1/femur left/femur left1_mask.npy'],\n",
              " 'pelvis left': ['/content/drive/MyDrive/New_masks/1/pelvis left/pelvis left1_mask.npy'],\n",
              " 'pelvis right': ['/content/drive/MyDrive/New_masks/1/pelvis right/pelvis right1_mask.npy']}"
            ]
          },
          "metadata": {
            "tags": []
          },
          "execution_count": 15
        }
      ]
    },
    {
      "cell_type": "code",
      "metadata": {
        "colab": {
          "base_uri": "https://localhost:8080/"
        },
        "id": "GWxWbmyNlXHb",
        "outputId": "5e4dc7ff-4988-47de-d9e6-da0c0ee84189"
      },
      "source": [
        "total_bone_px = 0\n",
        "for data in image_label_data:\n",
        "  total_bone_px += np.unique(data, return_counts=True)[1][1]\n",
        "  print(np.unique(data, return_counts=True)[1][1])\n",
        "print(total_bone_px)"
      ],
      "execution_count": 34,
      "outputs": [
        {
          "output_type": "stream",
          "text": [
            "110462\n",
            "55983\n",
            "58575\n",
            "225020\n"
          ],
          "name": "stdout"
        }
      ]
    },
    {
      "cell_type": "code",
      "metadata": {
        "colab": {
          "base_uri": "https://localhost:8080/"
        },
        "id": "reI-P4S4rhiI",
        "outputId": "e80c249e-2a93-4b5a-c23f-39314e057bc4"
      },
      "source": [
        "110462+55983+58575"
      ],
      "execution_count": 33,
      "outputs": [
        {
          "output_type": "execute_result",
          "data": {
            "text/plain": [
              "225020"
            ]
          },
          "metadata": {
            "tags": []
          },
          "execution_count": 33
        }
      ]
    },
    {
      "cell_type": "code",
      "metadata": {
        "colab": {
          "base_uri": "https://localhost:8080/"
        },
        "id": "av9Z_rfVqelI",
        "outputId": "24034b90-6725-4918-a4ba-e7db6c485239"
      },
      "source": [
        "tmp_data.sum()"
      ],
      "execution_count": 46,
      "outputs": [
        {
          "output_type": "execute_result",
          "data": {
            "text/plain": [
              "58575"
            ]
          },
          "metadata": {
            "tags": []
          },
          "execution_count": 46
        }
      ]
    },
    {
      "cell_type": "code",
      "metadata": {
        "id": "cXX772mxrv1-"
      },
      "source": [
        "tmp_data = image_label_data[0] & image_label_data[2]"
      ],
      "execution_count": 45,
      "outputs": []
    },
    {
      "cell_type": "code",
      "metadata": {
        "id": "72K-WwRVqQYu"
      },
      "source": [
        "tmp_data = image_label_data[0]\n",
        "for data in image_label_data:\n",
        "  tmp_data |= data"
      ],
      "execution_count": 35,
      "outputs": []
    },
    {
      "cell_type": "code",
      "metadata": {
        "colab": {
          "base_uri": "https://localhost:8080/"
        },
        "id": "INY9mNE9aMvK",
        "outputId": "b5fcc40a-131c-4e61-8cc0-e767e0146661"
      },
      "source": [
        "all_files.keys()"
      ],
      "execution_count": 4,
      "outputs": [
        {
          "output_type": "execute_result",
          "data": {
            "text/plain": [
              "dict_keys(['6', '9', '10', '7', '8', '12', '13', '11', '14', '15', '21', '17', '18', '20', '16', '22', '19', '23', '24', '25', '27', '28', '29', '31', '26', '30', '32', '35', '34', '33', '36', '38', '37', '40', '39', '41', '45', '42', '43', '46', '44', '47', '50', '48', '49', '51', '52', '53', '59', '56', '55', '58', '54', '57', '62', '61', '60', '64', '63', '67', '66', '65', '70', '69', '68', '71', '72', '75', '73', '74', '78', '77', '76', '81', '79', '80', '84', '82', '85', '83', '86', '88', '87', '90', '89', '92', '93', '94', '91', '95', '97', '96', '101', '103', '100', '102', '98', '99', '105', '104', '106', '108', '107', '109', '110', '111', '113', '117', '112', '114', '115', '116', '118', '120', '119', '121', '122', '123', '125', '124', '126', '127', '129', '128', '130', '139', '138', '131', '137', '132', '136', '133', '135', '134', '141', '147', '142', '143', '151', '148', '140', '144', '146', '145', '150', '158', '160', '154', '156', '159', '152', '153', '155', '149', '157', '2', '3', '1', '5', '4', '168', '166', '169', '165', '167', '171', '170', '173', '175', '182', '177', '179', '178', '176', '172', '174', '183', '180', '181', '184', '185', '187', '186', '190', '188', '189', '191', '192', '193', '194', '195', '196', '197', '204', '201', '203', '198', '200', '199', '202', '207', '206', '208', '209', '205', '210', '212', '211', '213', '214', '216', '215', '217', '219', '218', '221', '220', '223', '222', '224', '231', '228', '225', '230', '226', '227', '229', '232', '233', '234', '237', '235', '236', '239', '240', '238', '241', '242', '243', '244', '248', '247', '245', '250', '249', '251', '246', '253', '252', '254', '260', '257', '255', '258', '259', '261', '256', '262', '264', '263', '265', '266', '271', '267', '268', '272', '269', '274', '276', '275', '277', '273', '270', '278', '280', '279', '284', '287', '285', '282', '286', '283', '281', '289', '288', '290', '291', '293', '292', '294', '297', '301', '298', '295', '300', '299', '296', '302', '303', '304', '305', '163', '161', '162', '164', '306', '312', '313', '311', '314', '315', '316', '318', '317', '319', '320', '321', '323', '322', '325', '324', '326', '327', '331', '329', '328', '330', '332', '333', '334', '335', '336', '338', '337', '339', '340', '344', '341', '343', '342', '345', '346', '348', '349', '347', '350', '351', '352', '356', '355', '353', '354', '357', '358', '360', '359', '362', '361', '366', '365', '363', '364', '367', '368', '369', '370', '372', '371', '374', '373', '375', '376', '377', '378', '379', '380', '382', '381', '384', '383', '385', '386', '387', '388', '389', '390', '392', '391', '394', '395', '393', '398', '397', '396', '400', '399', '401', '402', '405', '404', '407', '406', '408', '409', '411', '410', '412', '413', '414', '415', '417', '416', '418', '403', '419', '420', '422', '421', '423', '424', '426', '427', '425', '428', '429', '430', '432', '433', '431', '434', '436', '435', '437', '438', '439', '440', '442', '441', '444', '445', '446', '443', '447', '448', '450', '449', '451', '452', '453', '457', '454', '455', '456', '458', '459', '460', '461', '462', '465', '463', '466', '464', '467', '468', '469', '471', '472', '470', '307', '310', '309', '308', '495', '496', '497', '500', '499', '498', '473', '474', '476', '475', '477', '478', '479', '480', '481', '482', '483', '484', '485', '486', '491', '488', '489', '490', '487', '492', '494', '493'])"
            ]
          },
          "metadata": {
            "tags": []
          },
          "execution_count": 4
        }
      ]
    },
    {
      "cell_type": "code",
      "metadata": {
        "colab": {
          "base_uri": "https://localhost:8080/"
        },
        "id": "-ytvHGokREGX",
        "outputId": "61fe96f2-5532-4193-feaa-81fe868b51b5"
      },
      "source": [
        "np.unique(demo_data, return_counts=True)"
      ],
      "execution_count": null,
      "outputs": [
        {
          "output_type": "execute_result",
          "data": {
            "text/plain": [
              "(array([0, 1], dtype=uint8), array([471539,   4939]))"
            ]
          },
          "metadata": {
            "tags": []
          },
          "execution_count": 55
        }
      ]
    },
    {
      "cell_type": "code",
      "metadata": {
        "colab": {
          "base_uri": "https://localhost:8080/"
        },
        "id": "ZMec7bHiUddn",
        "outputId": "caf208a1-f61f-4f56-bb26-9c3d5d60a5f0"
      },
      "source": [
        "demo_data.shape"
      ],
      "execution_count": null,
      "outputs": [
        {
          "output_type": "execute_result",
          "data": {
            "text/plain": [
              "(927, 514)"
            ]
          },
          "metadata": {
            "tags": []
          },
          "execution_count": 60
        }
      ]
    },
    {
      "cell_type": "code",
      "metadata": {
        "id": "fR72TUSGVZqM"
      },
      "source": [
        ""
      ],
      "execution_count": null,
      "outputs": []
    }
  ]
}