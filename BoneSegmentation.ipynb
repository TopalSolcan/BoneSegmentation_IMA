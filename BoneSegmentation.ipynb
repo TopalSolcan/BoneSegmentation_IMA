{
  "nbformat": 4,
  "nbformat_minor": 0,
  "metadata": {
    "colab": {
      "name": "BoneSegmentation.ipynb",
      "provenance": [],
      "collapsed_sections": [],
      "mount_file_id": "1e5coD0vibZup-AQCYycYkLQYb0aa73xQ",
      "authorship_tag": "ABX9TyNbODhTBE6jtr+qfzt5vbLv",
      "include_colab_link": true
    },
    "kernelspec": {
      "name": "python3",
      "display_name": "Python 3.8.5 64-bit ('.venv': pipenv)"
    },
    "language_info": {
      "name": "python",
      "version": "3.8.5"
    },
    "interpreter": {
      "hash": "5a2fe2c165f5be54a00b373373fff34b3e324ef3054311fac64ab317a2f1c921"
    }
  },
  "cells": [
    {
      "cell_type": "markdown",
      "metadata": {
        "id": "view-in-github",
        "colab_type": "text"
      },
      "source": [
        "<a href=\"https://colab.research.google.com/github/TopalSolcan/BoneSegmentation_IMA/blob/main/BoneSegmentation.ipynb\" target=\"_parent\"><img src=\"https://colab.research.google.com/assets/colab-badge.svg\" alt=\"Open In Colab\"/></a>"
      ]
    },
    {
      "cell_type": "code",
      "metadata": {
        "id": "BYllXBug-twb",
        "colab": {
          "base_uri": "https://localhost:8080/"
        },
        "outputId": "dd205c65-7eda-4034-d778-ac40993c4fa3"
      },
      "source": [
        "!ls"
      ],
      "execution_count": null,
      "outputs": []
    },
    {
      "cell_type": "code",
      "metadata": {
        "id": "bWch-c7BAVCz",
        "colab": {
          "base_uri": "https://localhost:8080/"
        },
        "outputId": "9645da9e-a4c6-4ab3-d21c-497033ace0fb"
      },
      "source": [
        "import os\n",
        "import numpy as np\n",
        "import BoneSegmentation_IMA.bone_data"
      ],
      "execution_count": null,
      "outputs": []
    },
    {
      "cell_type": "code",
      "metadata": {
        "colab": {
          "base_uri": "https://localhost:8080/"
        },
        "id": "isV-0h48N2vy",
        "outputId": "2dea357a-dfc3-4d36-aa7b-1d720e220dab"
      },
      "source": [
        "!git clone https://github.com/TopalSolcan/BoneSegmentation_IMA.git"
      ],
      "execution_count": null,
      "outputs": []
    },
    {
      "cell_type": "code",
      "metadata": {
        "id": "dSx0q52VV_JL"
      },
      "source": [],
      "execution_count": null,
      "outputs": []
    },
    {
      "cell_type": "code",
      "metadata": {
        "id": "a37ssvMQWHsk"
      },
      "source": [],
      "execution_count": null,
      "outputs": []
    },
    {
      "cell_type": "code",
      "metadata": {
        "colab": {
          "base_uri": "https://localhost:8080/"
        },
        "id": "WaxJxOVPWPZp",
        "outputId": "f4b4a8a0-9729-4bfe-d46b-ec0d73822b00"
      },
      "source": [
        "root_path = \"/content/drive/MyDrive/New_masks\"\n",
        "sub_folders = os.listdir(root_path)\n",
        "all_files = {}\n",
        "for sub_folder in sub_folders:\n",
        "  sub_folderpath = \"{}/{}\".format(root_path, sub_folder)\n",
        "  print(sub_folderpath)\n",
        "  class_folders = os.listdir(sub_folderpath)\n",
        "  if sub_folder not in all_files:\n",
        "      all_files[sub_folder] = {}\n",
        "\n",
        "  for class_folder in class_folders:\n",
        "    if class_folder not in all_files[sub_folder]:\n",
        "      all_files[sub_folder][class_folder] = []\n",
        "    class_folderpath = \"{}/{}\".format(sub_folderpath, class_folder)\n",
        "    file_names = os.listdir(class_folderpath)\n",
        "    \n",
        "    for file_name in file_names:\n",
        "      filepath = \"{}/{}\".format(class_folderpath, file_name)\n",
        "      all_files[sub_folder][class_folder].append(filepath)"
      ],
      "execution_count": null,
      "outputs": []
    },
    {
      "cell_type": "code",
      "metadata": {
        "colab": {
          "base_uri": "https://localhost:8080/"
        },
        "id": "e1ZwlYkUlMhK",
        "outputId": "b63a65f4-4d6b-4f03-a991-7ce672906536"
      },
      "source": [
        "image_label_data = []\n",
        "# for image_folder in all_files[\"1\"]:\n",
        "image_folder = \"1\"\n",
        "for  class_folder in all_files[image_folder]:\n",
        "  for file_path in all_files[image_folder][class_folder]:\n",
        "    print(all_files[image_folder][class_folder])\n",
        "    print(file_path)\n",
        "    image_label_data.append(np.load(file_path))"
      ],
      "execution_count": null,
      "outputs": []
    },
    {
      "cell_type": "code",
      "metadata": {
        "colab": {
          "base_uri": "https://localhost:8080/"
        },
        "id": "vZMAxTO-npBm",
        "outputId": "336e54ee-f019-4edd-86ce-60ced2348560"
      },
      "source": [
        "all_files[image_folder]"
      ],
      "execution_count": null,
      "outputs": []
    },
    {
      "cell_type": "code",
      "metadata": {
        "colab": {
          "base_uri": "https://localhost:8080/"
        },
        "id": "GWxWbmyNlXHb",
        "outputId": "5e4dc7ff-4988-47de-d9e6-da0c0ee84189"
      },
      "source": [
        "total_bone_px = 0\n",
        "for data in image_label_data:\n",
        "  total_bone_px += np.unique(data, return_counts=True)[1][1]\n",
        "  print(np.unique(data, return_counts=True)[1][1])\n",
        "print(total_bone_px)"
      ],
      "execution_count": null,
      "outputs": []
    },
    {
      "cell_type": "code",
      "metadata": {
        "colab": {
          "base_uri": "https://localhost:8080/"
        },
        "id": "reI-P4S4rhiI",
        "outputId": "e80c249e-2a93-4b5a-c23f-39314e057bc4"
      },
      "source": [
        "110462+55983+58575"
      ],
      "execution_count": null,
      "outputs": []
    },
    {
      "cell_type": "code",
      "metadata": {
        "colab": {
          "base_uri": "https://localhost:8080/"
        },
        "id": "av9Z_rfVqelI",
        "outputId": "24034b90-6725-4918-a4ba-e7db6c485239"
      },
      "source": [
        "tmp_data.sum()"
      ],
      "execution_count": null,
      "outputs": []
    },
    {
      "cell_type": "code",
      "metadata": {
        "id": "cXX772mxrv1-"
      },
      "source": [
        "tmp_data = image_label_data[0] & image_label_data[2]"
      ],
      "execution_count": null,
      "outputs": []
    },
    {
      "cell_type": "code",
      "metadata": {
        "id": "72K-WwRVqQYu"
      },
      "source": [
        "tmp_data = image_label_data[0]\n",
        "for data in image_label_data:\n",
        "  tmp_data |= data"
      ],
      "execution_count": null,
      "outputs": []
    },
    {
      "cell_type": "code",
      "metadata": {
        "colab": {
          "base_uri": "https://localhost:8080/"
        },
        "id": "INY9mNE9aMvK",
        "outputId": "b5fcc40a-131c-4e61-8cc0-e767e0146661"
      },
      "source": [
        "all_files.keys()"
      ],
      "execution_count": null,
      "outputs": []
    },
    {
      "cell_type": "code",
      "metadata": {
        "colab": {
          "base_uri": "https://localhost:8080/"
        },
        "id": "-ytvHGokREGX",
        "outputId": "61fe96f2-5532-4193-feaa-81fe868b51b5"
      },
      "source": [
        "np.unique(demo_data, return_counts=True)"
      ],
      "execution_count": null,
      "outputs": []
    },
    {
      "cell_type": "code",
      "metadata": {
        "colab": {
          "base_uri": "https://localhost:8080/"
        },
        "id": "ZMec7bHiUddn",
        "outputId": "caf208a1-f61f-4f56-bb26-9c3d5d60a5f0"
      },
      "source": [
        "demo_data.shape"
      ],
      "execution_count": null,
      "outputs": []
    },
    {
      "cell_type": "code",
      "metadata": {
        "id": "fR72TUSGVZqM"
      },
      "source": [],
      "execution_count": null,
      "outputs": []
    }
  ]
}